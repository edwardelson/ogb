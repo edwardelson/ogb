{
 "cells": [
  {
   "cell_type": "code",
   "execution_count": 1,
   "id": "d768019b-5eca-4c93-a7a0-bf1ad91a1878",
   "metadata": {},
   "outputs": [
    {
     "name": "stderr",
     "output_type": "stream",
     "text": [
      "Using backend: pytorch\n"
     ]
    }
   ],
   "source": [
    "from ogb.lsc import DglPCQM4MDataset, PCQM4MEvaluator\n",
    "\n",
    "import argparse\n",
    "import dgl\n",
    "import numpy as np\n",
    "import os\n",
    "import random\n",
    "import torch\n",
    "import torch.optim as optim\n",
    "from torch.utils.data import DataLoader\n",
    "from torch.utils.tensorboard import SummaryWriter\n",
    "from torch.optim.lr_scheduler import StepLR\n",
    "from tqdm import tqdm\n",
    "\n",
    "import pandas as pd\n",
    "\n",
    "from gnn import GNN\n",
    "\n",
    "import os\n",
    "import os.path as osp\n",
    "import shutil\n",
    "from ogb.utils import smiles2graph\n",
    "from ogb.utils.torch_util import replace_numpy_with_torchtensor\n",
    "from ogb.utils.url import decide_download, download_url, extract_zip\n",
    "import pandas as pd\n",
    "import numpy as np\n",
    "from dgl.data.utils import load_graphs, save_graphs, Subset\n",
    "import dgl\n",
    "from tqdm import tqdm\n",
    "import torch\n",
    "from torch.utils.data import DataLoader\n",
    "\n",
    "import matplotlib.pyplot as plt\n",
    "\n",
    "reg_criterion = torch.nn.L1Loss()"
   ]
  },
  {
   "cell_type": "code",
   "execution_count": 2,
   "id": "0e5a5191-b247-4c2c-aa29-a69b507de44f",
   "metadata": {},
   "outputs": [],
   "source": [
    "# get args from main_gnn CLI\n",
    "class Argument(object):\n",
    "    name = \"args\"\n",
    "    \n",
    "args = Argument()\n",
    "args.batch_size = 256\n",
    "args.num_workers = 0\n",
    "args.num_layers = 5\n",
    "args.emb_dim = 600\n",
    "args.drop_ratio = 0.1 #0\n",
    "args.graph_pooling = \"sum\"\n",
    "args.device = 0\n",
    "args.train_subset = False\n",
    "args.epochs = 1\n",
    "\n",
    "# device = torch.device(\"cuda:\" + str(args.device)) if torch.cuda.is_available() else torch.device(\"cpu\")\n",
    "device = \"cpu\"\n",
    "\n",
    "shared_params = {\n",
    "    'num_layers': args.num_layers,\n",
    "    'emb_dim': args.emb_dim,\n",
    "    'drop_ratio': args.drop_ratio,\n",
    "    'graph_pooling': args.graph_pooling\n",
    "}\n"
   ]
  },
  {
   "cell_type": "code",
   "execution_count": null,
   "id": "4df9b82f-ea6e-40f5-9860-8c1ab3c8c6b8",
   "metadata": {},
   "outputs": [],
   "source": []
  },
  {
   "cell_type": "markdown",
   "id": "ca5c8d5c-9286-45ef-945f-19ee745de87e",
   "metadata": {},
   "source": [
    "## load dataset"
   ]
  },
  {
   "cell_type": "code",
   "execution_count": 3,
   "id": "249bd9dd-4264-4805-93b9-1c78831f1001",
   "metadata": {},
   "outputs": [],
   "source": [
    "from ogb.lsc import DglPCQM4MDataset, PCQM4MEvaluator"
   ]
  },
  {
   "cell_type": "code",
   "execution_count": 4,
   "id": "564dfdd0-8ae7-46df-b88d-c1fb15aec94f",
   "metadata": {},
   "outputs": [],
   "source": [
    "def createGraph(smiles):\n",
    "    graph = smiles2graph(smiles)\n",
    "\n",
    "    dgl_graph = dgl.graph((graph['edge_index'][0], graph['edge_index'][1]), num_nodes = graph['num_nodes'])\n",
    "    dgl_graph.edata['feat'] = torch.from_numpy(graph['edge_feat']).to(torch.int64)\n",
    "    dgl_graph.ndata['feat'] = torch.from_numpy(graph['node_feat']).to(torch.int64)\n",
    "\n",
    "    return dgl_graph"
   ]
  },
  {
   "cell_type": "code",
   "execution_count": 5,
   "id": "b466dddc-df9a-4dba-baca-96c7d8bf069e",
   "metadata": {},
   "outputs": [
    {
     "name": "stdout",
     "output_type": "stream",
     "text": [
      "dict_keys(['train', 'valid', 'test'])\n"
     ]
    }
   ],
   "source": [
    "ROOT = \"dataset/pcqm4m_kddcup2021\"\n",
    "filename = \"{}/{}\".format(ROOT, \"raw/data.csv.gz\")\n",
    "data_df = pd.read_csv(filename)\n",
    "\n",
    "\"\"\"\n",
    "Load Train/Test/Valid split dictionary\n",
    "\"\"\"\n",
    "# load raw split dict\n",
    "split_dict = torch.load(osp.join(ROOT, 'split_dict.pt'))\n",
    "print(split_dict.keys())\n",
    "\n",
    "# get valid dataframe\n",
    "valid_df = data_df.loc[split_dict[\"valid\"]]\n",
    "valid_df[\"batch\"] = valid_df[\"idx\"].apply(lambda x: int(x / args.batch_size))\n",
    "test_df = data_df.loc[split_dict[\"test\"]]\n",
    "test_df[\"batch\"] = test_df[\"idx\"].apply(lambda x: int(x / args.batch_size))\n"
   ]
  },
  {
   "cell_type": "markdown",
   "id": "c34689c8-a73c-42ea-87ae-5e2e1f370132",
   "metadata": {},
   "source": [
    "## models"
   ]
  },
  {
   "cell_type": "code",
   "execution_count": 6,
   "id": "6d3688d1-a67e-4135-8c7d-58176405bda5",
   "metadata": {},
   "outputs": [],
   "source": [
    "def get_prediction(model, df):\n",
    "    model.eval()\n",
    "    labels = []\n",
    "    preds = []\n",
    "    for batch, subDF in tqdm(df.groupby(\"batch\")):\n",
    "        graphs = [createGraph(smiles) for smiles in subDF[\"smiles\"].values]  \n",
    "        labels.extend(subDF[\"homolumogap\"].values)\n",
    "\n",
    "        bg = dgl.batch(graphs)\n",
    "        bg = bg.to(device)\n",
    "\n",
    "        x = bg.ndata.pop('feat')\n",
    "        edge_attr = bg.edata.pop('feat')\n",
    "\n",
    "        pred = model(bg, x, edge_attr).view(-1, )\n",
    "        preds.extend(pred.detach().cpu().numpy().tolist())\n",
    "\n",
    "    preds = np.array(preds)\n",
    "    labels = np.array(labels)\n",
    "    \n",
    "    return preds, labels"
   ]
  },
  {
   "cell_type": "code",
   "execution_count": 7,
   "id": "73d84aba-50eb-4f92-bdd4-b0c550fd14d5",
   "metadata": {},
   "outputs": [
    {
     "name": "stdout",
     "output_type": "stream",
     "text": [
      "models/gin-virtual-diffpool/checkpoint\\checkpoint.pt\n",
      "Loading existing weights from models/gin-virtual-diffpool/checkpoint\\checkpoint.pt\n",
      "models/gin-virtual-diffpool/log 0.1370588093996048\n"
     ]
    }
   ],
   "source": [
    "from gnn import DiffPoolGNN\n",
    "\n",
    "args.log_dir = \"models/gin-virtual-diffpool/log\"\n",
    "args.checkpoint_dir = \"models/gin-virtual-diffpool/checkpoint\"\n",
    "args.save_test_dir = \"models/gin-virtual-diffpool/test\"\n",
    "\n",
    "model = DiffPoolGNN(gnn_type='gin', virtual_node=True, **shared_params).to(device)\n",
    "# add 5 dim\n",
    "model.gc_after_pool.bn = torch.nn.BatchNorm1d(5).to(device)\n",
    "\n",
    "# check if checkpoint exist -> load model\n",
    "checkpointFile = os.path.join(args.checkpoint_dir, 'checkpoint.pt')\n",
    "print(checkpointFile)\n",
    "if os.path.exists(checkpointFile):\n",
    "    # load weights\n",
    "    print(\"Loading existing weights from {}\".format(checkpointFile))\n",
    "    checkpointData = torch.load(checkpointFile)\n",
    "    model.load_state_dict(checkpointData[\"model_state_dict\"], strict=True)\n",
    "    model.eval()\n",
    "    \n",
    "print(args.log_dir, checkpointData[\"best_val_mae\"])\n",
    "\n",
    "\n"
   ]
  },
  {
   "cell_type": "code",
   "execution_count": null,
   "id": "85a9430e-c2bf-4c9f-a995-8ae3c2791b97",
   "metadata": {},
   "outputs": [],
   "source": [
    "\"\"\"\n",
    "evaluate\n",
    "\"\"\"\n",
    "# get val\n",
    "preds, labels = get_prediction(model, valid_df)\n",
    "\n",
    "# evaluate\n",
    "evaluator = PCQM4MEvaluator()\n",
    "y_true = torch.Tensor(labels)\n",
    "y_pred = torch.Tensor(preds)\n",
    "input_dict = {\"y_true\": y_true, \"y_pred\": y_pred}\n",
    "print(args.log_dir, evaluator.eval(input_dict)[\"mae\"])\n",
    "\n",
    "# save val and test\n",
    "diffpoolDF = pd.DataFrame(zip(list(valid_df[\"idx\"].values), labels, preds), columns=[\"molecule_idx\", \"label\", \"gin-diffpool-pred\"])\n",
    "diffpoolDF.to_csv(\"models/gin-virtual-diffpool/gin-virtual-diffpool-validResult.csv\")\n"
   ]
  },
  {
   "cell_type": "code",
   "execution_count": 8,
   "id": "789c9298-2e38-41cf-8f15-daf0fe30854c",
   "metadata": {},
   "outputs": [
    {
     "name": "stderr",
     "output_type": "stream",
     "text": [
      "100%|██████████████████████████████████████████████████████████████████████████████| 1476/1476 [28:13<00:00,  1.15s/it]\n"
     ]
    }
   ],
   "source": [
    "\"\"\"\n",
    "testing\n",
    "\"\"\"\n",
    "diffpool_preds, _ = get_prediction(model, test_df)\n",
    "\n",
    "with open('models/gin-virtual-diffpool/gin-virtual-diffpool-testResult.npy', 'wb') as f:\n",
    "    np.save(f, diffpool_preds)\n"
   ]
  },
  {
   "cell_type": "code",
   "execution_count": 9,
   "id": "1ac3e7ca-96a4-4f02-978d-ee986ea8fb26",
   "metadata": {},
   "outputs": [],
   "source": [
    "with open('models/gin-virtual-diffpool/gin-virtual-diffpool-testResult.npy', 'wb') as f:\n",
    "    np.save(f, diffpool_preds)"
   ]
  }
 ],
 "metadata": {
  "kernelspec": {
   "display_name": "my-rdkit-env",
   "language": "python",
   "name": "my-rdkit-env"
  },
  "language_info": {
   "codemirror_mode": {
    "name": "ipython",
    "version": 3
   },
   "file_extension": ".py",
   "mimetype": "text/x-python",
   "name": "python",
   "nbconvert_exporter": "python",
   "pygments_lexer": "ipython3",
   "version": "3.7.5"
  }
 },
 "nbformat": 4,
 "nbformat_minor": 5
}
