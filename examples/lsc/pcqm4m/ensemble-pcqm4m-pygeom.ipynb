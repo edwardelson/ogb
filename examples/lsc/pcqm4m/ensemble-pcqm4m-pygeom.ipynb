{
 "cells": [
  {
   "cell_type": "markdown",
   "id": "0f442038-d5ed-4e93-b627-d6f3ea157bca",
   "metadata": {},
   "source": [
    "1. run all models - extract val and test set\n",
    "2. do mean of val and test set"
   ]
  },
  {
   "cell_type": "code",
   "execution_count": 1,
   "id": "8c839411-fa76-4dc1-a0f7-53a35303acdd",
   "metadata": {},
   "outputs": [
    {
     "name": "stderr",
     "output_type": "stream",
     "text": [
      "Using backend: pytorch\n"
     ]
    }
   ],
   "source": [
    "import pandas as pd\n",
    "from ogb.lsc import PygPCQM4MDataset, PCQM4MEvaluator\n",
    "import numpy as np\n",
    "\n",
    "from torch_geometric.data import DataLoader\n",
    "from tqdm import tqdm\n",
    "import torch\n",
    "\n",
    "import os"
   ]
  },
  {
   "cell_type": "code",
   "execution_count": 2,
   "id": "6b85a911-f7bd-497b-8733-ec749461c75c",
   "metadata": {},
   "outputs": [],
   "source": [
    "\"\"\"\n",
    "LOAD HYPERPARAMETERS\n",
    "\"\"\"\n",
    "# get args from main_gnn CLI\n",
    "class Argument(object):\n",
    "    name = \"args\"\n",
    "    \n",
    "args = Argument()\n",
    "args.batch_size = 256\n",
    "args.num_workers = 0\n",
    "args.num_layers = 5\n",
    "args.emb_dim = 600\n",
    "args.drop_ratio = 0\n",
    "args.graph_pooling = \"sum\"\n",
    "args.device = 0\n",
    "\n",
    "shared_params = {\n",
    "    'num_layers': args.num_layers,\n",
    "    'emb_dim': args.emb_dim,\n",
    "    'drop_ratio': args.drop_ratio,\n",
    "    'graph_pooling': args.graph_pooling\n",
    "}\n",
    "\n",
    "device = torch.device(\"cuda:\" + str(args.device)) if torch.cuda.is_available() else torch.device(\"cpu\")"
   ]
  },
  {
   "cell_type": "markdown",
   "id": "f39ddce3-7430-45c3-9498-4eccd55da7a0",
   "metadata": {},
   "source": [
    "## load data"
   ]
  },
  {
   "cell_type": "code",
   "execution_count": 3,
   "id": "ce425875-7e37-4ac1-8114-5b3b3c07723c",
   "metadata": {},
   "outputs": [
    {
     "name": "stdout",
     "output_type": "stream",
     "text": [
      "3045360 377423 380670\n"
     ]
    }
   ],
   "source": [
    "\"\"\"\n",
    "LOAD DATA\n",
    "\"\"\"\n",
    "### importing OGB-LSC\n",
    "from ogb.lsc import PygPCQM4MDataset, PCQM4MEvaluator\n",
    "\n",
    "dataset = PygPCQM4MDataset(root = 'dataset/')\n",
    "split_idx = dataset.get_idx_split()\n",
    "\n",
    "valid_loader = DataLoader(dataset[split_idx[\"valid\"]], batch_size=args.batch_size, shuffle=False, num_workers = args.num_workers)\n",
    "test_loader = DataLoader(dataset[split_idx[\"test\"]], batch_size=args.batch_size, shuffle=False, num_workers = args.num_workers)\n",
    "print(len(split_idx[\"train\"]), len(split_idx[\"test\"]), len(split_idx[\"valid\"]))"
   ]
  },
  {
   "cell_type": "code",
   "execution_count": 4,
   "id": "35b64661-f879-44d0-8e7b-a1568542629e",
   "metadata": {},
   "outputs": [],
   "source": [
    "def get_prediction(model, loader):\n",
    "    y_true = []\n",
    "    y_pred = []\n",
    "    for step, batch in enumerate(tqdm(loader, desc=\"Iteration\")):\n",
    "\n",
    "        # put batch to cuda\n",
    "        batch = batch.to(device)\n",
    "\n",
    "        pred = model(batch)\n",
    "        pred = pred.view(-1)    \n",
    "        # collate prediction\n",
    "        pred_np = pred.detach().cpu().numpy()\n",
    "        y_pred.extend(pred_np)\n",
    "\n",
    "        # collate label\n",
    "        label = batch.y.detach().cpu().numpy()\n",
    "        y_true.extend(label)\n",
    "        \n",
    "    return y_true, y_pred"
   ]
  },
  {
   "cell_type": "markdown",
   "id": "803dd713-cf9e-407f-8f3e-116775ad6bdf",
   "metadata": {},
   "source": [
    "## pygeom models"
   ]
  },
  {
   "cell_type": "code",
   "execution_count": 5,
   "id": "a48f0963-77bb-428d-b4ec-e1ddb21ec7fd",
   "metadata": {},
   "outputs": [
    {
     "name": "stderr",
     "output_type": "stream",
     "text": [
      "Iteration:   0%|                                                                              | 0/1487 [00:00<?, ?it/s]"
     ]
    },
    {
     "name": "stdout",
     "output_type": "stream",
     "text": [
      "gin-virtual-bnn-lastLayer 0.14056678116321564\n"
     ]
    },
    {
     "name": "stderr",
     "output_type": "stream",
     "text": [
      "Iteration: 100%|███████████████████████████████████████████████████████████████████| 1487/1487 [02:59<00:00,  8.27it/s]\n"
     ]
    },
    {
     "name": "stdout",
     "output_type": "stream",
     "text": [
      "BayesianGNN 0.14057622849941254\n"
     ]
    },
    {
     "name": "stderr",
     "output_type": "stream",
     "text": [
      "Iteration: 100%|███████████████████████████████████████████████████████████████████| 1475/1475 [03:11<00:00,  7.72it/s]\n"
     ]
    },
    {
     "data": {
      "text/plain": [
       "(377423,)"
      ]
     },
     "execution_count": 5,
     "metadata": {},
     "output_type": "execute_result"
    }
   ],
   "source": [
    "\"\"\"\n",
    "gin-virtual-bayes-lastLayer\n",
    "\"\"\"\n",
    "from gnn import BayesianGNN\n",
    "\n",
    "args.checkpoint_dir = \"models/gin-virtual-bnn-lastLayer/checkpoint\"\n",
    "\n",
    "\"\"\"\n",
    "LOAD Checkpoint data\n",
    "\"\"\"\n",
    "checkpoint = torch.load(os.path.join(args.checkpoint_dir, 'checkpoint.pt'))\n",
    "\n",
    "gnn_name = \"gin-virtual-bnn-lastLayer\"\n",
    "gnn_type = \"gin\"\n",
    "virtual_node = True\n",
    "\n",
    "model = BayesianGNN(gnn_type = gnn_type, virtual_node = virtual_node, last_layer_only=True, **shared_params).to(device)\n",
    "model.load_state_dict(checkpoint[\"model_state_dict\"], strict=True)\n",
    "model.state_dict()\n",
    "# set model to evaluation-only\n",
    "model.eval()\n",
    "print(gnn_name, checkpoint[\"best_val_mae\"])\n",
    "\n",
    "\"\"\"\n",
    "get prediction for val\n",
    "\"\"\"\n",
    "y_true, y_pred = get_prediction(model, valid_loader)    \n",
    "evaluator = PCQM4MEvaluator()\n",
    "input_dict = {\"y_true\": torch.tensor(y_true), \"y_pred\": torch.tensor(y_pred)}\n",
    "print(\"BayesianGNN\", evaluator.eval(input_dict)[\"mae\"])\n",
    "\n",
    "# save results to dataframe\n",
    "ginBNNDF = pd.DataFrame(zip(split_idx[\"valid\"].cpu().tolist(), y_true, y_pred), columns=[\"molecule_idx\", \"label\", \"gin-pred\"])\n",
    "\n",
    "\"\"\"\n",
    "get prediction for test\n",
    "\"\"\"\n",
    "_, ginBNN_test_pred = get_prediction(model, test_loader)    \n",
    "ginBNN_test_pred = np.array(ginBNN_test_pred)\n",
    "ginBNN_test_pred.shape"
   ]
  },
  {
   "cell_type": "code",
   "execution_count": 6,
   "id": "0d0abe88-6538-47f5-be12-3d69ef914a4a",
   "metadata": {},
   "outputs": [
    {
     "name": "stderr",
     "output_type": "stream",
     "text": [
      "Iteration:   0%|                                                                              | 0/1487 [00:00<?, ?it/s]"
     ]
    },
    {
     "name": "stdout",
     "output_type": "stream",
     "text": [
      "gin-virtual 0.14212889969348907\n"
     ]
    },
    {
     "name": "stderr",
     "output_type": "stream",
     "text": [
      "Iteration: 100%|███████████████████████████████████████████████████████████████████| 1487/1487 [02:06<00:00, 11.71it/s]\n"
     ]
    },
    {
     "name": "stdout",
     "output_type": "stream",
     "text": [
      "BayesianGNN 0.14212889969348907\n"
     ]
    },
    {
     "name": "stderr",
     "output_type": "stream",
     "text": [
      "Iteration: 100%|███████████████████████████████████████████████████████████████████| 1475/1475 [02:12<00:00, 11.10it/s]\n"
     ]
    },
    {
     "data": {
      "text/plain": [
       "(377423,)"
      ]
     },
     "execution_count": 6,
     "metadata": {},
     "output_type": "execute_result"
    }
   ],
   "source": [
    "\"\"\"\n",
    "gin-virtual\n",
    "\"\"\"\n",
    "from gnn import GNN\n",
    "\n",
    "args.checkpoint_dir = \"models/gin-virtual/checkpoint\"\n",
    "\n",
    "\"\"\"\n",
    "LOAD Checkpoint data\n",
    "\"\"\"\n",
    "checkpoint = torch.load(os.path.join(args.checkpoint_dir, 'checkpoint.pt'))\n",
    "\n",
    "gnn_name = \"gin-virtual\"\n",
    "gnn_type = \"gin\"\n",
    "virtual_node = True\n",
    "\n",
    "model = GNN(gnn_type = gnn_type, virtual_node = virtual_node, **shared_params).to(device)\n",
    "model.load_state_dict(checkpoint[\"model_state_dict\"], strict=True)\n",
    "model.state_dict()\n",
    "# set model to evaluation-only\n",
    "model.eval()\n",
    "print(gnn_name, checkpoint[\"best_val_mae\"])\n",
    "\n",
    "\"\"\"\n",
    "get prediction for val\n",
    "\"\"\"\n",
    "y_true, y_pred = get_prediction(model, valid_loader)    \n",
    "evaluator = PCQM4MEvaluator()\n",
    "input_dict = {\"y_true\": torch.tensor(y_true), \"y_pred\": torch.tensor(y_pred)}\n",
    "print(\"BayesianGNN\", evaluator.eval(input_dict)[\"mae\"])\n",
    "\n",
    "# save results to dataframe\n",
    "ginDF = pd.DataFrame(zip(split_idx[\"valid\"].cpu().tolist(), y_true, y_pred), columns=[\"molecule_idx\", \"label\", \"gin-pred\"])\n",
    "\n",
    "\"\"\"\n",
    "get prediction for test\n",
    "\"\"\"\n",
    "_, gin_test_pred = get_prediction(model, test_loader)  \n",
    "gin_test_pred = np.array(gin_test_pred)\n",
    "gin_test_pred.shape"
   ]
  },
  {
   "cell_type": "markdown",
   "id": "4c6e06e3-307f-4870-bc7c-cbd867a3d5da",
   "metadata": {},
   "source": [
    "## load dgl models"
   ]
  },
  {
   "cell_type": "code",
   "execution_count": 16,
   "id": "69ffb3e5-6a20-4d0f-906b-6bb86f94c35c",
   "metadata": {},
   "outputs": [],
   "source": [
    "# get valid result\n",
    "ginDiffPoolDF = pd.read_csv(\"../pcqm4m-dgl/models/gin-virtual-diffpool/gin-virtual-diffPool-validResult.csv\")\n",
    "\n",
    "# get test result\n",
    "with open('../pcqm4m-dgl/models/gin-virtual-diffpool/gin-virtual-diffpool-testResult.npy', 'rb') as f:\n",
    "    ginDiffPool_test_pred = np.load(f)"
   ]
  },
  {
   "cell_type": "markdown",
   "id": "d715dba3-7ec9-4df2-afc1-5bba6c297624",
   "metadata": {},
   "source": [
    "## ensembling"
   ]
  },
  {
   "cell_type": "code",
   "execution_count": 17,
   "id": "5741153e-5657-403b-b8c3-c27e2759ac38",
   "metadata": {},
   "outputs": [
    {
     "data": {
      "text/html": [
       "<div>\n",
       "<style scoped>\n",
       "    .dataframe tbody tr th:only-of-type {\n",
       "        vertical-align: middle;\n",
       "    }\n",
       "\n",
       "    .dataframe tbody tr th {\n",
       "        vertical-align: top;\n",
       "    }\n",
       "\n",
       "    .dataframe thead th {\n",
       "        text-align: right;\n",
       "    }\n",
       "</style>\n",
       "<table border=\"1\" class=\"dataframe\">\n",
       "  <thead>\n",
       "    <tr style=\"text-align: right;\">\n",
       "      <th></th>\n",
       "      <th>molecule_idx</th>\n",
       "      <th>label</th>\n",
       "      <th>gin-pred</th>\n",
       "    </tr>\n",
       "  </thead>\n",
       "  <tbody>\n",
       "    <tr>\n",
       "      <th>0</th>\n",
       "      <td>3045360</td>\n",
       "      <td>4.870838</td>\n",
       "      <td>4.860394</td>\n",
       "    </tr>\n",
       "    <tr>\n",
       "      <th>1</th>\n",
       "      <td>3045361</td>\n",
       "      <td>5.322547</td>\n",
       "      <td>5.343346</td>\n",
       "    </tr>\n",
       "    <tr>\n",
       "      <th>2</th>\n",
       "      <td>3045362</td>\n",
       "      <td>5.240913</td>\n",
       "      <td>4.994455</td>\n",
       "    </tr>\n",
       "    <tr>\n",
       "      <th>3</th>\n",
       "      <td>3045363</td>\n",
       "      <td>5.227307</td>\n",
       "      <td>5.107187</td>\n",
       "    </tr>\n",
       "    <tr>\n",
       "      <th>4</th>\n",
       "      <td>3045364</td>\n",
       "      <td>4.868117</td>\n",
       "      <td>5.044456</td>\n",
       "    </tr>\n",
       "  </tbody>\n",
       "</table>\n",
       "</div>"
      ],
      "text/plain": [
       "   molecule_idx     label  gin-pred\n",
       "0       3045360  4.870838  4.860394\n",
       "1       3045361  5.322547  5.343346\n",
       "2       3045362  5.240913  4.994455\n",
       "3       3045363  5.227307  5.107187\n",
       "4       3045364  4.868117  5.044456"
      ]
     },
     "execution_count": 17,
     "metadata": {},
     "output_type": "execute_result"
    }
   ],
   "source": [
    "ginDF.head()"
   ]
  },
  {
   "cell_type": "code",
   "execution_count": 18,
   "id": "183b6c52-0eb4-48dd-8de8-b1d12206ce5c",
   "metadata": {},
   "outputs": [
    {
     "data": {
      "text/html": [
       "<div>\n",
       "<style scoped>\n",
       "    .dataframe tbody tr th:only-of-type {\n",
       "        vertical-align: middle;\n",
       "    }\n",
       "\n",
       "    .dataframe tbody tr th {\n",
       "        vertical-align: top;\n",
       "    }\n",
       "\n",
       "    .dataframe thead th {\n",
       "        text-align: right;\n",
       "    }\n",
       "</style>\n",
       "<table border=\"1\" class=\"dataframe\">\n",
       "  <thead>\n",
       "    <tr style=\"text-align: right;\">\n",
       "      <th></th>\n",
       "      <th>molecule_idx</th>\n",
       "      <th>label</th>\n",
       "      <th>gin-pred</th>\n",
       "    </tr>\n",
       "  </thead>\n",
       "  <tbody>\n",
       "    <tr>\n",
       "      <th>0</th>\n",
       "      <td>3045360</td>\n",
       "      <td>4.870838</td>\n",
       "      <td>4.828844</td>\n",
       "    </tr>\n",
       "    <tr>\n",
       "      <th>1</th>\n",
       "      <td>3045361</td>\n",
       "      <td>5.322547</td>\n",
       "      <td>5.327822</td>\n",
       "    </tr>\n",
       "    <tr>\n",
       "      <th>2</th>\n",
       "      <td>3045362</td>\n",
       "      <td>5.240913</td>\n",
       "      <td>5.105467</td>\n",
       "    </tr>\n",
       "    <tr>\n",
       "      <th>3</th>\n",
       "      <td>3045363</td>\n",
       "      <td>5.227307</td>\n",
       "      <td>5.183986</td>\n",
       "    </tr>\n",
       "    <tr>\n",
       "      <th>4</th>\n",
       "      <td>3045364</td>\n",
       "      <td>4.868117</td>\n",
       "      <td>5.031127</td>\n",
       "    </tr>\n",
       "  </tbody>\n",
       "</table>\n",
       "</div>"
      ],
      "text/plain": [
       "   molecule_idx     label  gin-pred\n",
       "0       3045360  4.870838  4.828844\n",
       "1       3045361  5.322547  5.327822\n",
       "2       3045362  5.240913  5.105467\n",
       "3       3045363  5.227307  5.183986\n",
       "4       3045364  4.868117  5.031127"
      ]
     },
     "execution_count": 18,
     "metadata": {},
     "output_type": "execute_result"
    }
   ],
   "source": [
    "ginBNNDF.head()"
   ]
  },
  {
   "cell_type": "code",
   "execution_count": 19,
   "id": "adf1dcbf-0d77-4437-ae3f-fbec087f307f",
   "metadata": {},
   "outputs": [
    {
     "data": {
      "text/html": [
       "<div>\n",
       "<style scoped>\n",
       "    .dataframe tbody tr th:only-of-type {\n",
       "        vertical-align: middle;\n",
       "    }\n",
       "\n",
       "    .dataframe tbody tr th {\n",
       "        vertical-align: top;\n",
       "    }\n",
       "\n",
       "    .dataframe thead th {\n",
       "        text-align: right;\n",
       "    }\n",
       "</style>\n",
       "<table border=\"1\" class=\"dataframe\">\n",
       "  <thead>\n",
       "    <tr style=\"text-align: right;\">\n",
       "      <th></th>\n",
       "      <th>Unnamed: 0</th>\n",
       "      <th>molecule_idx</th>\n",
       "      <th>label</th>\n",
       "      <th>gin-diffpool-pred</th>\n",
       "    </tr>\n",
       "  </thead>\n",
       "  <tbody>\n",
       "    <tr>\n",
       "      <th>0</th>\n",
       "      <td>0</td>\n",
       "      <td>3045360</td>\n",
       "      <td>4.870838</td>\n",
       "      <td>4.857602</td>\n",
       "    </tr>\n",
       "    <tr>\n",
       "      <th>1</th>\n",
       "      <td>1</td>\n",
       "      <td>3045361</td>\n",
       "      <td>5.322547</td>\n",
       "      <td>5.303278</td>\n",
       "    </tr>\n",
       "    <tr>\n",
       "      <th>2</th>\n",
       "      <td>2</td>\n",
       "      <td>3045362</td>\n",
       "      <td>5.240913</td>\n",
       "      <td>5.092427</td>\n",
       "    </tr>\n",
       "    <tr>\n",
       "      <th>3</th>\n",
       "      <td>3</td>\n",
       "      <td>3045363</td>\n",
       "      <td>5.227307</td>\n",
       "      <td>5.085762</td>\n",
       "    </tr>\n",
       "    <tr>\n",
       "      <th>4</th>\n",
       "      <td>4</td>\n",
       "      <td>3045364</td>\n",
       "      <td>4.868117</td>\n",
       "      <td>5.007533</td>\n",
       "    </tr>\n",
       "  </tbody>\n",
       "</table>\n",
       "</div>"
      ],
      "text/plain": [
       "   Unnamed: 0  molecule_idx     label  gin-diffpool-pred\n",
       "0           0       3045360  4.870838           4.857602\n",
       "1           1       3045361  5.322547           5.303278\n",
       "2           2       3045362  5.240913           5.092427\n",
       "3           3       3045363  5.227307           5.085762\n",
       "4           4       3045364  4.868117           5.007533"
      ]
     },
     "execution_count": 19,
     "metadata": {},
     "output_type": "execute_result"
    }
   ],
   "source": [
    "ginDiffPoolDF.head()"
   ]
  },
  {
   "cell_type": "code",
   "execution_count": 20,
   "id": "73a96d96-8b85-4f87-9656-5a99e6575e68",
   "metadata": {},
   "outputs": [
    {
     "name": "stdout",
     "output_type": "stream",
     "text": [
      "gin 0.1421289058183607\n",
      "gin-bnn 0.14057623964997648\n",
      "gin-diffpool 0.1370588209054448\n",
      "gin + gin-bnn 0.13506544059592193\n",
      "gin + gin-diffpool 0.1338790091397235\n",
      "gin-bnn + gin-diffpool 0.13302038444807135\n",
      "gin + gin-bnn + gin-diffpool 0.13183168120432173\n"
     ]
    }
   ],
   "source": [
    "\"\"\"\n",
    "valid ensembling\n",
    "\"\"\"\n",
    "for name, pairs in [\n",
    "    [\"gin\", (ginDF[\"gin-pred\"], ginDF[\"gin-pred\"])],\n",
    "    [\"gin-bnn\", (ginBNNDF[\"gin-pred\"], ginBNNDF[\"gin-pred\"])],\n",
    "    [\"gin-diffpool\", (ginDiffPoolDF[\"gin-diffpool-pred\"], ginDiffPoolDF[\"gin-diffpool-pred\"])],\n",
    "    [\"gin + gin-bnn\", (ginDF[\"gin-pred\"], ginBNNDF[\"gin-pred\"])],\n",
    "    [\"gin + gin-diffpool\", (ginDF[\"gin-pred\"], ginDiffPoolDF[\"gin-diffpool-pred\"])],\n",
    "    [\"gin-bnn + gin-diffpool\", (ginBNNDF[\"gin-pred\"], ginDiffPoolDF[\"gin-diffpool-pred\"])],\n",
    "    [\"gin + gin-bnn + gin-diffpool\", (ginDF[\"gin-pred\"], ginBNNDF[\"gin-pred\"], ginDiffPoolDF[\"gin-diffpool-pred\"])],\n",
    "]:\n",
    "\n",
    "    mean_pred = np.mean(list(zip(*pairs)), axis=1)\n",
    "    evaluator = PCQM4MEvaluator()\n",
    "    input_dict = {\"y_true\": torch.tensor(y_true), \"y_pred\": torch.tensor(mean_pred)}\n",
    "    print(name, evaluator.eval(input_dict)[\"mae\"])\n"
   ]
  },
  {
   "cell_type": "code",
   "execution_count": 21,
   "id": "c6af7d2a-1421-4b68-b32d-68de0f89141d",
   "metadata": {},
   "outputs": [],
   "source": [
    "\"\"\"\n",
    "test ensembling - and save\n",
    "\"\"\"\n",
    "\n",
    "args.save_test_dir = \"models/ensembling-gin-virtual-diffpool-bayesLastLayer\"\n",
    "\n",
    "pairs = (ginBNN_test_pred, gin_test_pred, ginDiffPool_test_pred)\n",
    "ensemble_pred = np.mean(list(zip(*pairs)), axis=1)\n",
    "\n",
    "evaluator.save_test_submission({'y_pred': ensemble_pred}, args.save_test_dir)\n"
   ]
  },
  {
   "cell_type": "code",
   "execution_count": 22,
   "id": "0edeae02-fef6-4e71-bd2f-ce2b184d6caa",
   "metadata": {},
   "outputs": [
    {
     "data": {
      "text/plain": [
       "377423"
      ]
     },
     "execution_count": 22,
     "metadata": {},
     "output_type": "execute_result"
    }
   ],
   "source": [
    "len(ensemble_pred)"
   ]
  },
  {
   "cell_type": "code",
   "execution_count": null,
   "id": "e38c5c2a-0a6a-4964-85d9-a4308c4ff539",
   "metadata": {},
   "outputs": [],
   "source": []
  }
 ],
 "metadata": {
  "kernelspec": {
   "display_name": "my-rdkit-env",
   "language": "python",
   "name": "my-rdkit-env"
  },
  "language_info": {
   "codemirror_mode": {
    "name": "ipython",
    "version": 3
   },
   "file_extension": ".py",
   "mimetype": "text/x-python",
   "name": "python",
   "nbconvert_exporter": "python",
   "pygments_lexer": "ipython3",
   "version": "3.7.5"
  }
 },
 "nbformat": 4,
 "nbformat_minor": 5
}
