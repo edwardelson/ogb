{
 "cells": [
  {
   "cell_type": "markdown",
   "id": "2a5dbc3a",
   "metadata": {},
   "source": [
    "ref: https://arxiv.org/pdf/2005.10036.pdf\n",
    "\n",
    "1. run gin to get embedding\n",
    "2. feed embedding to random forest / gp on train\n",
    "3. apply on val and check MAE"
   ]
  },
  {
   "cell_type": "code",
   "execution_count": 1,
   "id": "82d28e6e",
   "metadata": {},
   "outputs": [],
   "source": [
    "import lightgbm"
   ]
  },
  {
   "cell_type": "code",
   "execution_count": 2,
   "id": "d482ec04",
   "metadata": {},
   "outputs": [
    {
     "data": {
      "text/plain": [
       "True"
      ]
     },
     "execution_count": 2,
     "metadata": {},
     "output_type": "execute_result"
    }
   ],
   "source": [
    "import torch\n",
    "from torch_geometric.data import DataLoader\n",
    "import torch.optim as optim\n",
    "import torch.nn.functional as F\n",
    "from torch.utils.tensorboard import SummaryWriter\n",
    "from torch.optim.lr_scheduler import StepLR\n",
    "\n",
    "from gnn import GNN\n",
    "\n",
    "import os\n",
    "from tqdm import tqdm\n",
    "import argparse\n",
    "import time\n",
    "import numpy as np\n",
    "import random\n",
    "\n",
    "torch.cuda.is_available()"
   ]
  },
  {
   "cell_type": "code",
   "execution_count": 3,
   "id": "0e90ebc2",
   "metadata": {},
   "outputs": [],
   "source": [
    "import os.path as osp\n",
    "from ogb.lsc import PygPCQM4MDataset, PCQM4MEvaluator\n",
    "import pickle"
   ]
  },
  {
   "cell_type": "code",
   "execution_count": 4,
   "id": "d9b33814",
   "metadata": {},
   "outputs": [],
   "source": [
    "# get args from main_gnn CLI\n",
    "class Argument(object):\n",
    "    name = \"args\"\n",
    "    \n",
    "args = Argument()\n",
    "args.batch_size = 256\n",
    "args.num_workers = 0\n",
    "args.num_layers = 5\n",
    "args.emb_dim = 600\n",
    "args.drop_ratio = 0\n",
    "args.graph_pooling = \"sum\"\n",
    "args.checkpoint_dir = \"checkpoint\"\n",
    "args.device = 0"
   ]
  },
  {
   "cell_type": "code",
   "execution_count": 5,
   "id": "533edb97",
   "metadata": {},
   "outputs": [
    {
     "data": {
      "text/plain": [
       "device(type='cuda', index=0)"
      ]
     },
     "execution_count": 5,
     "metadata": {},
     "output_type": "execute_result"
    }
   ],
   "source": [
    "device = torch.device(\"cuda:\" + str(args.device)) if torch.cuda.is_available() else torch.device(\"cpu\")\n",
    "device"
   ]
  },
  {
   "cell_type": "code",
   "execution_count": 6,
   "id": "be9f2c6b",
   "metadata": {},
   "outputs": [],
   "source": [
    "shared_params = {\n",
    "    'num_layers': args.num_layers,\n",
    "    'emb_dim': args.emb_dim,\n",
    "    'drop_ratio': args.drop_ratio,\n",
    "    'graph_pooling': args.graph_pooling\n",
    "}\n"
   ]
  },
  {
   "cell_type": "markdown",
   "id": "7cf0d520",
   "metadata": {},
   "source": [
    "## load model"
   ]
  },
  {
   "cell_type": "code",
   "execution_count": 7,
   "id": "71b02ceb",
   "metadata": {},
   "outputs": [
    {
     "data": {
      "text/plain": [
       "GNN(\n",
       "  (gnn_node): GNN_node_Virtualnode(\n",
       "    (atom_encoder): AtomEncoder(\n",
       "      (atom_embedding_list): ModuleList(\n",
       "        (0): Embedding(119, 600)\n",
       "        (1): Embedding(4, 600)\n",
       "        (2): Embedding(12, 600)\n",
       "        (3): Embedding(12, 600)\n",
       "        (4): Embedding(10, 600)\n",
       "        (5): Embedding(6, 600)\n",
       "        (6): Embedding(6, 600)\n",
       "        (7): Embedding(2, 600)\n",
       "        (8): Embedding(2, 600)\n",
       "      )\n",
       "    )\n",
       "    (virtualnode_embedding): Embedding(1, 600)\n",
       "    (convs): ModuleList(\n",
       "      (0): GINConv(\n",
       "        (mlp): Sequential(\n",
       "          (0): Linear(in_features=600, out_features=600, bias=True)\n",
       "          (1): BatchNorm1d(600, eps=1e-05, momentum=0.1, affine=True, track_running_stats=True)\n",
       "          (2): ReLU()\n",
       "          (3): Linear(in_features=600, out_features=600, bias=True)\n",
       "        )\n",
       "        (bond_encoder): BondEncoder(\n",
       "          (bond_embedding_list): ModuleList(\n",
       "            (0): Embedding(5, 600)\n",
       "            (1): Embedding(6, 600)\n",
       "            (2): Embedding(2, 600)\n",
       "          )\n",
       "        )\n",
       "      )\n",
       "      (1): GINConv(\n",
       "        (mlp): Sequential(\n",
       "          (0): Linear(in_features=600, out_features=600, bias=True)\n",
       "          (1): BatchNorm1d(600, eps=1e-05, momentum=0.1, affine=True, track_running_stats=True)\n",
       "          (2): ReLU()\n",
       "          (3): Linear(in_features=600, out_features=600, bias=True)\n",
       "        )\n",
       "        (bond_encoder): BondEncoder(\n",
       "          (bond_embedding_list): ModuleList(\n",
       "            (0): Embedding(5, 600)\n",
       "            (1): Embedding(6, 600)\n",
       "            (2): Embedding(2, 600)\n",
       "          )\n",
       "        )\n",
       "      )\n",
       "      (2): GINConv(\n",
       "        (mlp): Sequential(\n",
       "          (0): Linear(in_features=600, out_features=600, bias=True)\n",
       "          (1): BatchNorm1d(600, eps=1e-05, momentum=0.1, affine=True, track_running_stats=True)\n",
       "          (2): ReLU()\n",
       "          (3): Linear(in_features=600, out_features=600, bias=True)\n",
       "        )\n",
       "        (bond_encoder): BondEncoder(\n",
       "          (bond_embedding_list): ModuleList(\n",
       "            (0): Embedding(5, 600)\n",
       "            (1): Embedding(6, 600)\n",
       "            (2): Embedding(2, 600)\n",
       "          )\n",
       "        )\n",
       "      )\n",
       "      (3): GINConv(\n",
       "        (mlp): Sequential(\n",
       "          (0): Linear(in_features=600, out_features=600, bias=True)\n",
       "          (1): BatchNorm1d(600, eps=1e-05, momentum=0.1, affine=True, track_running_stats=True)\n",
       "          (2): ReLU()\n",
       "          (3): Linear(in_features=600, out_features=600, bias=True)\n",
       "        )\n",
       "        (bond_encoder): BondEncoder(\n",
       "          (bond_embedding_list): ModuleList(\n",
       "            (0): Embedding(5, 600)\n",
       "            (1): Embedding(6, 600)\n",
       "            (2): Embedding(2, 600)\n",
       "          )\n",
       "        )\n",
       "      )\n",
       "      (4): GINConv(\n",
       "        (mlp): Sequential(\n",
       "          (0): Linear(in_features=600, out_features=600, bias=True)\n",
       "          (1): BatchNorm1d(600, eps=1e-05, momentum=0.1, affine=True, track_running_stats=True)\n",
       "          (2): ReLU()\n",
       "          (3): Linear(in_features=600, out_features=600, bias=True)\n",
       "        )\n",
       "        (bond_encoder): BondEncoder(\n",
       "          (bond_embedding_list): ModuleList(\n",
       "            (0): Embedding(5, 600)\n",
       "            (1): Embedding(6, 600)\n",
       "            (2): Embedding(2, 600)\n",
       "          )\n",
       "        )\n",
       "      )\n",
       "    )\n",
       "    (batch_norms): ModuleList(\n",
       "      (0): BatchNorm1d(600, eps=1e-05, momentum=0.1, affine=True, track_running_stats=True)\n",
       "      (1): BatchNorm1d(600, eps=1e-05, momentum=0.1, affine=True, track_running_stats=True)\n",
       "      (2): BatchNorm1d(600, eps=1e-05, momentum=0.1, affine=True, track_running_stats=True)\n",
       "      (3): BatchNorm1d(600, eps=1e-05, momentum=0.1, affine=True, track_running_stats=True)\n",
       "      (4): BatchNorm1d(600, eps=1e-05, momentum=0.1, affine=True, track_running_stats=True)\n",
       "    )\n",
       "    (mlp_virtualnode_list): ModuleList(\n",
       "      (0): Sequential(\n",
       "        (0): Linear(in_features=600, out_features=600, bias=True)\n",
       "        (1): BatchNorm1d(600, eps=1e-05, momentum=0.1, affine=True, track_running_stats=True)\n",
       "        (2): ReLU()\n",
       "        (3): Linear(in_features=600, out_features=600, bias=True)\n",
       "        (4): BatchNorm1d(600, eps=1e-05, momentum=0.1, affine=True, track_running_stats=True)\n",
       "        (5): ReLU()\n",
       "      )\n",
       "      (1): Sequential(\n",
       "        (0): Linear(in_features=600, out_features=600, bias=True)\n",
       "        (1): BatchNorm1d(600, eps=1e-05, momentum=0.1, affine=True, track_running_stats=True)\n",
       "        (2): ReLU()\n",
       "        (3): Linear(in_features=600, out_features=600, bias=True)\n",
       "        (4): BatchNorm1d(600, eps=1e-05, momentum=0.1, affine=True, track_running_stats=True)\n",
       "        (5): ReLU()\n",
       "      )\n",
       "      (2): Sequential(\n",
       "        (0): Linear(in_features=600, out_features=600, bias=True)\n",
       "        (1): BatchNorm1d(600, eps=1e-05, momentum=0.1, affine=True, track_running_stats=True)\n",
       "        (2): ReLU()\n",
       "        (3): Linear(in_features=600, out_features=600, bias=True)\n",
       "        (4): BatchNorm1d(600, eps=1e-05, momentum=0.1, affine=True, track_running_stats=True)\n",
       "        (5): ReLU()\n",
       "      )\n",
       "      (3): Sequential(\n",
       "        (0): Linear(in_features=600, out_features=600, bias=True)\n",
       "        (1): BatchNorm1d(600, eps=1e-05, momentum=0.1, affine=True, track_running_stats=True)\n",
       "        (2): ReLU()\n",
       "        (3): Linear(in_features=600, out_features=600, bias=True)\n",
       "        (4): BatchNorm1d(600, eps=1e-05, momentum=0.1, affine=True, track_running_stats=True)\n",
       "        (5): ReLU()\n",
       "      )\n",
       "    )\n",
       "  )\n",
       "  (graph_pred_linear): Linear(in_features=600, out_features=1, bias=True)\n",
       ")"
      ]
     },
     "execution_count": 7,
     "metadata": {},
     "output_type": "execute_result"
    }
   ],
   "source": [
    "modelName = \"gin-virtual\"\n",
    "gnn_type = \"gin\"\n",
    "virtual_node = True\n",
    "    \n",
    "\"\"\"\n",
    "LOAD Checkpoint data\n",
    "\"\"\"\n",
    "filename = os.path.join(args.checkpoint_dir, \"models\", modelName, \"checkpoint\", 'checkpoint.pt')\n",
    "checkpoint = torch.load(filename)\n",
    "\n",
    "# load model\n",
    "model = GNN(gnn_type = gnn_type, virtual_node = virtual_node, **shared_params).to(device)\n",
    "model.load_state_dict(checkpoint[\"model_state_dict\"])\n",
    "model.eval()    "
   ]
  },
  {
   "cell_type": "markdown",
   "id": "29605bc9",
   "metadata": {},
   "source": [
    "## load data"
   ]
  },
  {
   "cell_type": "code",
   "execution_count": 8,
   "id": "61b8e88f",
   "metadata": {},
   "outputs": [],
   "source": [
    "import pandas as pd"
   ]
  },
  {
   "cell_type": "code",
   "execution_count": 9,
   "id": "f5e7bf7c",
   "metadata": {},
   "outputs": [],
   "source": [
    "### importing OGB-LSC\n",
    "from ogb.lsc import PygPCQM4MDataset, PCQM4MEvaluator\n",
    "\n",
    "dataset = PygPCQM4MDataset(root = 'dataset/')\n",
    "split_idx = dataset.get_idx_split()"
   ]
  },
  {
   "cell_type": "markdown",
   "id": "e37e07d8",
   "metadata": {},
   "source": [
    "## test valid"
   ]
  },
  {
   "cell_type": "code",
   "execution_count": null,
   "id": "e35f62f1",
   "metadata": {},
   "outputs": [],
   "source": [
    "# \"\"\"\n",
    "# Get intermediate graph embeddings and visualise\n",
    "# \"\"\"\n",
    "# def getPred(model):\n",
    "#     valid_loader = DataLoader(dataset[split_idx[\"valid\"]], batch_size=args.batch_size, shuffle=False, num_workers = args.num_workers)\n",
    "    \n",
    "#     y_pred = []\n",
    "#     for step, batch in enumerate(tqdm(valid_loader, desc=\"Iteration\")):\n",
    "\n",
    "#         # put batch to cuda\n",
    "#         batch = batch.to(device)\n",
    "\n",
    "#         # collate prediction\n",
    "#         with torch.no_grad():\n",
    "#             pred = model(batch).view(-1,)    \n",
    "#             pred_np = pred.detach().cpu().numpy()\n",
    "#             y_pred.extend(pred_np)\n",
    "\n",
    "#     return y_pred"
   ]
  },
  {
   "cell_type": "code",
   "execution_count": 23,
   "id": "d0888e05",
   "metadata": {},
   "outputs": [
    {
     "name": "stderr",
     "output_type": "stream",
     "text": [
      "Iteration: 100%|███████████████████████████████████████████████████████████████████| 1487/1487 [00:58<00:00, 25.38it/s]\n"
     ]
    }
   ],
   "source": [
    "# ## collate data as a list\n",
    "\n",
    "# valid_data_list = []\n",
    "# y_true = []\n",
    "# for step, batch in enumerate(tqdm(valid_loader, desc=\"Iteration\")):\n",
    "\n",
    "#     # collate data\n",
    "#     for i in range(batch.y.shape[0]):\n",
    "#         valid_data_list.append(batch[i])\n",
    "\n",
    "#     # collate label\n",
    "#     label = batch.y.detach().cpu().numpy()\n",
    "#     y_true.extend(label)"
   ]
  },
  {
   "cell_type": "code",
   "execution_count": null,
   "id": "5dc98b42",
   "metadata": {},
   "outputs": [],
   "source": [
    "# # get prediction\n",
    "# y_pred = getPred(model)\n"
   ]
  },
  {
   "cell_type": "code",
   "execution_count": 25,
   "id": "b065e500",
   "metadata": {},
   "outputs": [
    {
     "data": {
      "text/plain": [
       "0.15115168690681458"
      ]
     },
     "execution_count": 25,
     "metadata": {},
     "output_type": "execute_result"
    }
   ],
   "source": [
    "# # evaluate\n",
    "# evaluator = PCQM4MEvaluator()\n",
    "# input_dict = {\"y_true\": torch.tensor(y_true), \"y_pred\": torch.tensor(y_pred)}\n",
    "# evaluator.eval(input_dict)[\"mae\"]"
   ]
  },
  {
   "cell_type": "markdown",
   "id": "9a45306c",
   "metadata": {},
   "source": [
    "## further train"
   ]
  },
  {
   "cell_type": "code",
   "execution_count": 11,
   "id": "6f384cbc",
   "metadata": {},
   "outputs": [],
   "source": [
    "train_loader = DataLoader(dataset[split_idx[\"train\"]], batch_size=args.batch_size, shuffle=False, num_workers = args.num_workers)"
   ]
  },
  {
   "cell_type": "code",
   "execution_count": 15,
   "id": "fb831b31",
   "metadata": {},
   "outputs": [],
   "source": [
    "def getGraphEmbedding(model, batch):\n",
    "    with torch.no_grad():\n",
    "        # get intermediate outputs\n",
    "        h_node = model.gnn_node(batch)\n",
    "        # GRAPH EMBEDDING\n",
    "        h_graph = model.pool(h_node, batch.batch)\n",
    "        # output\n",
    "        output = model.graph_pred_linear(h_graph).view(-1)\n",
    "\n",
    "    return h_graph, output"
   ]
  },
  {
   "cell_type": "code",
   "execution_count": 12,
   "id": "95aa8f95",
   "metadata": {},
   "outputs": [
    {
     "name": "stderr",
     "output_type": "stream",
     "text": [
      "Iteration: 100%|█████████████████████████████████████████████████████████████████| 11896/11896 [18:46<00:00, 10.56it/s]\n"
     ]
    }
   ],
   "source": [
    "\"\"\"\n",
    "Get intermediate graph embeddings and visualise\n",
    "\"\"\"\n",
    "# valid_data_list = []\n",
    "for step, batch in enumerate(tqdm(train_loader, desc=\"Iteration\")):\n",
    "\n",
    "#     # collate data\n",
    "#     for i in range(batch.y.shape[0]):\n",
    "#         valid_data_list.append(batch[i])\n",
    "\n",
    "    # put batch to cuda\n",
    "    batch = batch.to(device)\n",
    "\n",
    "    # get embedding\n",
    "    h_graph, pred = getGraphEmbedding(model, batch)\n",
    "\n",
    "    # collate prediction\n",
    "    pred_np = pred.detach().cpu().numpy()\n",
    "    filename = osp.join(\"checkpoint\", \"trainingEmbeddings\", \"preds\", \"{}.npy\".format(step))\n",
    "    np.save(filename, pred_np)\n",
    "\n",
    "    # save graph embeddings\n",
    "    h_graph_np = h_graph.detach().cpu().numpy()\n",
    "    filename = osp.join(\"checkpoint\", \"trainingEmbeddings\", \"embeddings\", \"{}.npy\".format(step))\n",
    "    np.save(filename, h_graph_np)\n",
    "    \n",
    "    # save label\n",
    "    label = batch.y.detach().cpu().numpy()\n",
    "    filename = osp.join(\"checkpoint\", \"trainingEmbeddings\", \"labels\", \"{}.npy\".format(step))\n",
    "    np.save(filename, label)\n",
    "    "
   ]
  },
  {
   "cell_type": "code",
   "execution_count": null,
   "id": "4612e2d2",
   "metadata": {},
   "outputs": [],
   "source": [
    "raise Exception(\"\")\n",
    "\n",
    "# shutdown the kernel, delete data"
   ]
  },
  {
   "cell_type": "markdown",
   "id": "f2ad1402",
   "metadata": {},
   "source": [
    "## evaluate training data"
   ]
  },
  {
   "cell_type": "code",
   "execution_count": 8,
   "id": "5d83a5cc",
   "metadata": {},
   "outputs": [],
   "source": [
    "Ntrain = 11896"
   ]
  },
  {
   "cell_type": "code",
   "execution_count": 9,
   "id": "7f573347",
   "metadata": {
    "scrolled": true
   },
   "outputs": [
    {
     "name": "stderr",
     "output_type": "stream",
     "text": [
      "100%|███████████████████████████████████████████████████████████████████████████| 11896/11896 [00:22<00:00, 525.36it/s]\n"
     ]
    }
   ],
   "source": [
    "\"\"\"\n",
    "load from storage\n",
    "\"\"\"\n",
    "y_true = []\n",
    "y_pred = []\n",
    "\n",
    "for step in tqdm(range(Ntrain)):\n",
    "    filename = osp.join(\"checkpoint\", \"trainingEmbeddings\", \"preds\", \"{}.npy\".format(step))\n",
    "    pred_np = np.load(filename)\n",
    "    y_pred.extend(pred_np)\n",
    "\n",
    "#     filename = osp.join(\"checkpoint\", \"trainingEmbeddings\", \"embeddings\", \"{}.npy\".format(step))\n",
    "#     h_graph_np = np.load(filename)\n",
    "#     graphEmbeddings.append(h_graph_np)\n",
    "#     if graphEmbeddings is None:\n",
    "#         graphEmbeddings = h_graph_np\n",
    "#     else:\n",
    "#         graphEmbeddings = np.concatenate((graphEmbeddings, h_graph_np))\n",
    "    \n",
    "    filename = osp.join(\"checkpoint\", \"trainingEmbeddings\", \"labels\", \"{}.npy\".format(step))\n",
    "    label = np.load(filename)\n",
    "    y_true.extend(label)"
   ]
  },
  {
   "cell_type": "code",
   "execution_count": 10,
   "id": "0fed0ac6",
   "metadata": {},
   "outputs": [],
   "source": [
    "Ndata = len(y_true)\n",
    "dim = 600\n",
    "graphEmbeddings = np.zeros((Ndata, dim))"
   ]
  },
  {
   "cell_type": "code",
   "execution_count": 11,
   "id": "5e21963a",
   "metadata": {},
   "outputs": [
    {
     "name": "stderr",
     "output_type": "stream",
     "text": [
      "100%|███████████████████████████████████████████████████████████████████████████| 11896/11896 [00:49<00:00, 240.45it/s]\n"
     ]
    }
   ],
   "source": [
    "# load separately as np.concatenate is too slow\n",
    "for step in tqdm(range(Ntrain)):\n",
    "    filename = osp.join(\"checkpoint\", \"trainingEmbeddings\", \"embeddings\", \"{}.npy\".format(step))\n",
    "    h_graph_np = np.load(filename)\n",
    "    \n",
    "    minVal = step*256\n",
    "    maxVal = min((step+1)*256, Ndata)\n",
    "    graphEmbeddings[minVal:maxVal, :] = h_graph_np"
   ]
  },
  {
   "cell_type": "code",
   "execution_count": 12,
   "id": "6b635845",
   "metadata": {},
   "outputs": [
    {
     "data": {
      "text/plain": [
       "(3045360, 3045360, (3045360, 600))"
      ]
     },
     "execution_count": 12,
     "metadata": {},
     "output_type": "execute_result"
    }
   ],
   "source": [
    "len(y_true), len(y_pred), graphEmbeddings.shape"
   ]
  },
  {
   "cell_type": "code",
   "execution_count": 13,
   "id": "be6ffb58",
   "metadata": {},
   "outputs": [
    {
     "data": {
      "text/plain": [
       "0.10943220555782318"
      ]
     },
     "execution_count": 13,
     "metadata": {},
     "output_type": "execute_result"
    }
   ],
   "source": [
    "# evaluate\n",
    "evaluator = PCQM4MEvaluator()\n",
    "input_dict = {\"y_true\": torch.tensor(y_true), \"y_pred\": torch.tensor(y_pred)}\n",
    "evaluator.eval(input_dict)[\"mae\"]"
   ]
  },
  {
   "cell_type": "markdown",
   "id": "f3941e0f",
   "metadata": {},
   "source": [
    "## run pca to reduce dimension of embeddings"
   ]
  },
  {
   "cell_type": "code",
   "execution_count": 13,
   "id": "013a4c25",
   "metadata": {},
   "outputs": [],
   "source": [
    "# from sklearn.decomposition import PCA\n",
    "# import matplotlib.pyplot as plt"
   ]
  },
  {
   "cell_type": "code",
   "execution_count": null,
   "id": "9960d2de",
   "metadata": {},
   "outputs": [],
   "source": [
    "# pca = PCA()\n",
    "# pca.fit(graphEmbeddings)\n",
    "\n",
    "# # see what's a good pca threshold\n",
    "# plt.figure(figsize= (10, 5))\n",
    "# plt.xticks(np.arange(0, graphEmbeddings.shape[1], step=10))\n",
    "# plt.plot(pca.explained_variance_ratio_.cumsum())"
   ]
  },
  {
   "cell_type": "code",
   "execution_count": null,
   "id": "cfefc5ba",
   "metadata": {},
   "outputs": [],
   "source": []
  },
  {
   "cell_type": "markdown",
   "id": "3c7eea15",
   "metadata": {},
   "source": [
    "## predict value"
   ]
  },
  {
   "cell_type": "code",
   "execution_count": 15,
   "id": "5ee15d11",
   "metadata": {},
   "outputs": [],
   "source": [
    "from lightgbm import LGBMRegressor"
   ]
  },
  {
   "cell_type": "code",
   "execution_count": 13,
   "id": "fe34cdc1",
   "metadata": {},
   "outputs": [],
   "source": [
    "# from sklearn.ensemble import RandomForestRegressor\n",
    "# from sklearn.gaussian_process import GaussianProcessRegressor\n",
    "# from sklearn.gaussian_process.kernels import DotProduct, WhiteKernel\n",
    "# from sklearn.ensemble import GradientBoostingRegressor\n",
    "# from sklearn.tree import DecisionTreeRegressor"
   ]
  },
  {
   "cell_type": "code",
   "execution_count": 27,
   "id": "6446e32f",
   "metadata": {},
   "outputs": [],
   "source": [
    "# regr = RandomForestRegressor(max_depth=2, random_state=0, criterion=\"mae\")\n",
    "# regr = GradientBoostingRegressor(random_state=1, criterion=\"mae\")\n",
    "# regr = DecisionTreeRegressor(random_state=0)\n",
    "# regr = DecisionTreeRegressor(random_state=0, criterion=\"mae\")\n",
    "\n",
    "regr = LGBMRegressor()"
   ]
  },
  {
   "cell_type": "code",
   "execution_count": 23,
   "id": "d08b4cf2",
   "metadata": {},
   "outputs": [],
   "source": [
    "# random sampling\n",
    "randomIndex = np.random.choice(Ndata, 50000, replace=False)"
   ]
  },
  {
   "cell_type": "code",
   "execution_count": 28,
   "id": "62fb4381",
   "metadata": {
    "scrolled": true
   },
   "outputs": [
    {
     "data": {
      "text/plain": [
       "LGBMRegressor()"
      ]
     },
     "execution_count": 28,
     "metadata": {},
     "output_type": "execute_result"
    }
   ],
   "source": [
    "\"\"\"\n",
    "TRAIN MODEL\n",
    "\"\"\"\n",
    "\n",
    "regr.fit(graphEmbeddings, y_true)\n",
    "# regr.fit(graphEmbeddings[randomIndex], np.array(y_true)[randomIndex])"
   ]
  },
  {
   "cell_type": "code",
   "execution_count": 29,
   "id": "04c47edd",
   "metadata": {},
   "outputs": [],
   "source": [
    "rfPred = regr.predict(graphEmbeddings)"
   ]
  },
  {
   "cell_type": "code",
   "execution_count": 30,
   "id": "c3a23bb6",
   "metadata": {},
   "outputs": [
    {
     "data": {
      "text/plain": [
       "0.10800974458228811"
      ]
     },
     "execution_count": 30,
     "metadata": {},
     "output_type": "execute_result"
    }
   ],
   "source": [
    "input_dict = {\"y_true\": torch.tensor(y_true), \"y_pred\": torch.tensor(rfPred)}\n",
    "evaluator.eval(input_dict)[\"mae\"]"
   ]
  },
  {
   "cell_type": "code",
   "execution_count": 39,
   "id": "a1e97614",
   "metadata": {},
   "outputs": [],
   "source": [
    "# kernel = DotProduct() + WhiteKernel()\n",
    "# gpr = GaussianProcessRegressor(kernel=kernel, random_state=0).fit(graphEmbeddings, y_true)"
   ]
  },
  {
   "cell_type": "code",
   "execution_count": 40,
   "id": "e93894a4",
   "metadata": {},
   "outputs": [],
   "source": [
    "# gprPred = gpr.predict(graphEmbeddings, return_std=False)"
   ]
  },
  {
   "cell_type": "code",
   "execution_count": 41,
   "id": "c25723f6",
   "metadata": {},
   "outputs": [],
   "source": [
    "# input_dict = {\"y_true\": torch.tensor(y_true), \"y_pred\": torch.tensor(gprPred)}\n",
    "# evaluator.eval(input_dict)[\"mae\"]"
   ]
  },
  {
   "cell_type": "code",
   "execution_count": 31,
   "id": "205e3b02",
   "metadata": {},
   "outputs": [],
   "source": [
    "import pickle"
   ]
  },
  {
   "cell_type": "code",
   "execution_count": 32,
   "id": "f204f368",
   "metadata": {},
   "outputs": [],
   "source": [
    "filename = osp.join(\"checkpoint\", \"trainingEmbeddings\", \"regr\")\n",
    "   \n",
    "with open(filename, \"wb\") as f:\n",
    "    pickle.dump(regr, f)"
   ]
  },
  {
   "cell_type": "code",
   "execution_count": null,
   "id": "3b882bf2",
   "metadata": {},
   "outputs": [],
   "source": []
  },
  {
   "cell_type": "markdown",
   "id": "d77284f9",
   "metadata": {},
   "source": [
    "## evaluate the model on valid\n",
    "\n",
    "1. extract valid embeddings\n",
    "2. feed to regressor\n",
    "3. test prediction"
   ]
  },
  {
   "cell_type": "code",
   "execution_count": 10,
   "id": "fe0860e9",
   "metadata": {},
   "outputs": [
    {
     "data": {
      "text/plain": [
       "LGBMRegressor()"
      ]
     },
     "execution_count": 10,
     "metadata": {},
     "output_type": "execute_result"
    }
   ],
   "source": [
    "filename = osp.join(\"checkpoint\", \"trainingEmbeddings\", \"regr\")\n",
    "   \n",
    "with open(filename, \"rb\") as f:\n",
    "    regr = pickle.load(f)\n",
    "    \n",
    "regr"
   ]
  },
  {
   "cell_type": "code",
   "execution_count": 11,
   "id": "5fb2f859",
   "metadata": {},
   "outputs": [],
   "source": [
    "valid_loader = DataLoader(dataset[split_idx[\"valid\"]], batch_size=args.batch_size, shuffle=False, num_workers = args.num_workers)"
   ]
  },
  {
   "cell_type": "code",
   "execution_count": 12,
   "id": "cce02204",
   "metadata": {},
   "outputs": [],
   "source": [
    "def getGraphEmbedding(model, batch):\n",
    "    with torch.no_grad():\n",
    "        # get intermediate outputs\n",
    "        h_node = model.gnn_node(batch)\n",
    "        # GRAPH EMBEDDING\n",
    "        h_graph = model.pool(h_node, batch.batch)\n",
    "        # output\n",
    "        output = model.graph_pred_linear(h_graph).view(-1)\n",
    "\n",
    "    return h_graph, output"
   ]
  },
  {
   "cell_type": "code",
   "execution_count": 13,
   "id": "b23f1826",
   "metadata": {},
   "outputs": [
    {
     "name": "stderr",
     "output_type": "stream",
     "text": [
      "Iteration: 100%|███████████████████████████████████████████████████████████████████| 1487/1487 [02:01<00:00, 12.27it/s]\n"
     ]
    }
   ],
   "source": [
    "\"\"\"\n",
    "Get intermediate graph embeddings and visualise\n",
    "\"\"\"\n",
    "graphEmbeddingsList = []\n",
    "y_true = []\n",
    "y_pred = []\n",
    "# valid_data_list = []\n",
    "for step, batch in enumerate(tqdm(valid_loader, desc=\"Iteration\")):\n",
    "\n",
    "    # put batch to cuda\n",
    "    batch = batch.to(device)\n",
    "\n",
    "    # get embedding\n",
    "    h_graph, pred = getGraphEmbedding(model, batch)\n",
    "\n",
    "    # collate prediction\n",
    "    pred_np = pred.detach().cpu().numpy()\n",
    "    y_pred.extend(pred_np)\n",
    "\n",
    "    # collate graph embedding\n",
    "    h_graph_np = h_graph.detach().cpu().numpy()\n",
    "    graphEmbeddingsList.append(h_graph_np)\n",
    "#     if graphEmbeddings is None:\n",
    "#         graphEmbeddings = h_graph_np\n",
    "#     else:\n",
    "#         graphEmbeddings = np.concatenate((graphEmbeddings, h_graph_np))\n",
    "\n",
    "    # collate label\n",
    "    label = batch.y.detach().cpu().numpy()\n",
    "    y_true.extend(label)\n",
    "    "
   ]
  },
  {
   "cell_type": "code",
   "execution_count": 14,
   "id": "6430f85c",
   "metadata": {},
   "outputs": [],
   "source": [
    "Ndata = len(y_true)\n",
    "dim = 600\n",
    "graphEmbeddings = np.zeros((Ndata, dim))"
   ]
  },
  {
   "cell_type": "code",
   "execution_count": 15,
   "id": "1ad13327",
   "metadata": {},
   "outputs": [],
   "source": [
    "Nval = 1487"
   ]
  },
  {
   "cell_type": "code",
   "execution_count": 16,
   "id": "68effd0f",
   "metadata": {},
   "outputs": [
    {
     "name": "stderr",
     "output_type": "stream",
     "text": [
      "100%|████████████████████████████████████████████████████████████████████████████| 1487/1487 [00:00<00:00, 2394.51it/s]\n"
     ]
    }
   ],
   "source": [
    "# load separately as np.concatenate is too slow\n",
    "for step in tqdm(range(Nval)):\n",
    "\n",
    "    h_graph_np = graphEmbeddingsList[step]\n",
    "    \n",
    "    minVal = step*256\n",
    "    maxVal = min((step+1)*256, Ndata)\n",
    "    graphEmbeddings[minVal:maxVal, :] = h_graph_np"
   ]
  },
  {
   "cell_type": "code",
   "execution_count": 17,
   "id": "e729789e",
   "metadata": {},
   "outputs": [],
   "source": [
    "rfPred = regr.predict(graphEmbeddings)"
   ]
  },
  {
   "cell_type": "code",
   "execution_count": 18,
   "id": "ac64dbe0",
   "metadata": {},
   "outputs": [],
   "source": [
    "evaluator = PCQM4MEvaluator()\n"
   ]
  },
  {
   "cell_type": "code",
   "execution_count": 19,
   "id": "ba05f1eb",
   "metadata": {},
   "outputs": [
    {
     "data": {
      "text/plain": [
       "0.15115167200565338"
      ]
     },
     "execution_count": 19,
     "metadata": {},
     "output_type": "execute_result"
    }
   ],
   "source": [
    "input_dict = {\"y_true\": torch.tensor(y_true), \"y_pred\": torch.tensor(y_pred)}\n",
    "evaluator.eval(input_dict)[\"mae\"]"
   ]
  },
  {
   "cell_type": "code",
   "execution_count": 20,
   "id": "46dc7acd",
   "metadata": {},
   "outputs": [
    {
     "data": {
      "text/plain": [
       "0.1507685979572607"
      ]
     },
     "execution_count": 20,
     "metadata": {},
     "output_type": "execute_result"
    }
   ],
   "source": [
    "input_dict = {\"y_true\": torch.tensor(y_true), \"y_pred\": torch.tensor(rfPred)}\n",
    "evaluator.eval(input_dict)[\"mae\"]"
   ]
  },
  {
   "cell_type": "code",
   "execution_count": 24,
   "id": "9318cc47",
   "metadata": {},
   "outputs": [
    {
     "data": {
      "text/plain": [
       "[<matplotlib.lines.Line2D at 0x23af8c66648>]"
      ]
     },
     "execution_count": 24,
     "metadata": {},
     "output_type": "execute_result"
    },
    {
     "data": {
      "image/png": "[encoded data removed]",
      "text/plain": [
       "<Figure size 432x288 with 1 Axes>"
      ]
     },
     "metadata": {
      "needs_background": "light"
     },
     "output_type": "display_data"
    }
   ],
   "source": [
    "import matplotlib.pyplot as plt\n",
    "\n",
    "plt.plot(regr.feature_importances_)"
   ]
  },
  {
   "cell_type": "code",
   "execution_count": null,
   "id": "865d4337",
   "metadata": {},
   "outputs": [],
   "source": []
  },
  {
   "cell_type": "code",
   "execution_count": null,
   "id": "50d5f67c",
   "metadata": {},
   "outputs": [],
   "source": []
  },
  {
   "cell_type": "code",
   "execution_count": null,
   "id": "285de382",
   "metadata": {},
   "outputs": [],
   "source": []
  },
  {
   "cell_type": "code",
   "execution_count": null,
   "id": "cf0b55ff",
   "metadata": {},
   "outputs": [],
   "source": []
  },
  {
   "cell_type": "code",
   "execution_count": null,
   "id": "c68357df",
   "metadata": {},
   "outputs": [],
   "source": []
  },
  {
   "cell_type": "code",
   "execution_count": null,
   "id": "47a4ed4a",
   "metadata": {},
   "outputs": [],
   "source": []
  },
  {
   "cell_type": "code",
   "execution_count": null,
   "id": "01920e64",
   "metadata": {},
   "outputs": [],
   "source": []
  },
  {
   "cell_type": "code",
   "execution_count": null,
   "id": "892e6925",
   "metadata": {},
   "outputs": [],
   "source": []
  }
 ],
 "metadata": {
  "kernelspec": {
   "display_name": "my-rdkit-env",
   "language": "python",
   "name": "my-rdkit-env"
  },
  "language_info": {
   "codemirror_mode": {
    "name": "ipython",
    "version": 3
   },
   "file_extension": ".py",
   "mimetype": "text/x-python",
   "name": "python",
   "nbconvert_exporter": "python",
   "pygments_lexer": "ipython3",
   "version": "3.7.5"
  }
 },
 "nbformat": 4,
 "nbformat_minor": 5
}
