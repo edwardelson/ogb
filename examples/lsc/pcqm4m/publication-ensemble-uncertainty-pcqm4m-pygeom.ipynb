{
 "cells": [
  {
   "cell_type": "markdown",
   "id": "0f442038-d5ed-4e93-b627-d6f3ea157bca",
   "metadata": {},
   "source": [
    "1. run all models - extract val and test set\n",
    "2. do mean of val and test set"
   ]
  },
  {
   "cell_type": "code",
   "execution_count": 1,
   "id": "8c839411-fa76-4dc1-a0f7-53a35303acdd",
   "metadata": {},
   "outputs": [
    {
     "name": "stderr",
     "output_type": "stream",
     "text": [
      "Using backend: pytorch\n"
     ]
    }
   ],
   "source": [
    "import pandas as pd\n",
    "from ogb.lsc import PygPCQM4MDataset, PCQM4MEvaluator\n",
    "import numpy as np\n",
    "\n",
    "from torch_geometric.data import DataLoader\n",
    "from tqdm import tqdm\n",
    "import torch\n",
    "\n",
    "import os"
   ]
  },
  {
   "cell_type": "code",
   "execution_count": 2,
   "id": "6b85a911-f7bd-497b-8733-ec749461c75c",
   "metadata": {},
   "outputs": [],
   "source": [
    "\"\"\"\n",
    "LOAD HYPERPARAMETERS\n",
    "\"\"\"\n",
    "# get args from main_gnn CLI\n",
    "class Argument(object):\n",
    "    name = \"args\"\n",
    "    \n",
    "args = Argument()\n",
    "args.batch_size = 256\n",
    "args.num_workers = 0\n",
    "args.num_layers = 5\n",
    "args.emb_dim = 600\n",
    "args.drop_ratio = 0\n",
    "args.graph_pooling = \"sum\"\n",
    "args.device = 0\n",
    "\n",
    "shared_params = {\n",
    "    'num_layers': args.num_layers,\n",
    "    'emb_dim': args.emb_dim,\n",
    "    'drop_ratio': args.drop_ratio,\n",
    "    'graph_pooling': args.graph_pooling\n",
    "}\n",
    "\n",
    "device = torch.device(\"cuda:\" + str(args.device)) if torch.cuda.is_available() else torch.device(\"cpu\")\n",
    "# device = \"cpu\""
   ]
  },
  {
   "cell_type": "markdown",
   "id": "f39ddce3-7430-45c3-9498-4eccd55da7a0",
   "metadata": {},
   "source": [
    "## load data"
   ]
  },
  {
   "cell_type": "code",
   "execution_count": 3,
   "id": "ce425875-7e37-4ac1-8114-5b3b3c07723c",
   "metadata": {},
   "outputs": [
    {
     "name": "stdout",
     "output_type": "stream",
     "text": [
      "3045360 377423 380670\n"
     ]
    }
   ],
   "source": [
    "\"\"\"\n",
    "LOAD DATA\n",
    "\"\"\"\n",
    "### importing OGB-LSC\n",
    "from ogb.lsc import PygPCQM4MDataset, PCQM4MEvaluator\n",
    "\n",
    "dataset = PygPCQM4MDataset(root = 'dataset/')\n",
    "split_idx = dataset.get_idx_split()\n",
    "\n",
    "valid_loader = DataLoader(dataset[split_idx[\"valid\"]], batch_size=args.batch_size, shuffle=False, num_workers = args.num_workers)\n",
    "test_loader = DataLoader(dataset[split_idx[\"test\"]], batch_size=args.batch_size, shuffle=False, num_workers = args.num_workers)\n",
    "print(len(split_idx[\"train\"]), len(split_idx[\"test\"]), len(split_idx[\"valid\"]))"
   ]
  },
  {
   "cell_type": "code",
   "execution_count": 4,
   "id": "35b64661-f879-44d0-8e7b-a1568542629e",
   "metadata": {},
   "outputs": [],
   "source": [
    "def get_prediction(model, loader):\n",
    "    y_true = []\n",
    "    y_pred = []\n",
    "    for step, batch in enumerate(tqdm(loader, desc=\"Iteration\")):\n",
    "\n",
    "        # put batch to cuda\n",
    "        batch = batch.to(device)\n",
    "\n",
    "        pred = model(batch)\n",
    "        pred = pred.view(-1)    \n",
    "        # collate prediction\n",
    "        pred_np = pred.detach().cpu().numpy()\n",
    "        y_pred.extend(pred_np)\n",
    "\n",
    "        # collate label\n",
    "        label = batch.y.detach().cpu().numpy()\n",
    "        y_true.extend(label)\n",
    "        \n",
    "    return y_true, y_pred"
   ]
  },
  {
   "cell_type": "markdown",
   "id": "803dd713-cf9e-407f-8f3e-116775ad6bdf",
   "metadata": {},
   "source": [
    "## pygeom models"
   ]
  },
  {
   "cell_type": "code",
   "execution_count": 5,
   "id": "1a987874-2eb5-48f6-b4e1-1e53735fb61c",
   "metadata": {},
   "outputs": [],
   "source": [
    "from gnn import GNN, BayesianGNN"
   ]
  },
  {
   "cell_type": "code",
   "execution_count": 6,
   "id": "601ff000-cb3a-4240-80cb-0ebcf0c07ee4",
   "metadata": {},
   "outputs": [],
   "source": [
    "def loadPyGeomModel(modelName, gnn_name, gnn_type, virtual_node, checkpoint_dir, modelType):\n",
    "    \"\"\"\n",
    "    LOAD Checkpoint data\n",
    "    \"\"\"\n",
    "    checkpoint = torch.load(os.path.join(checkpoint_dir, 'checkpoint.pt'))\n",
    "\n",
    "    model = modelType(gnn_type = gnn_type, virtual_node = virtual_node, **shared_params).to(device)\n",
    "    model.load_state_dict(checkpoint[\"model_state_dict\"], strict=True)\n",
    "    model.state_dict()\n",
    "    # set model to evaluation-only\n",
    "    model.eval()\n",
    "    print(modelName, checkpoint[\"best_val_mae\"])\n",
    "\n",
    "    \"\"\"\n",
    "    get prediction for val\n",
    "    \"\"\"\n",
    "    y_true, val_pred = get_prediction(model, valid_loader)    \n",
    "    evaluator = PCQM4MEvaluator()\n",
    "    input_dict = {\"y_true\": torch.tensor(y_true), \"y_pred\": torch.tensor(val_pred)}\n",
    "    print(modelName, evaluator.eval(input_dict)[\"mae\"])\n",
    "\n",
    "    # save results to dataframe\n",
    "    valDF = pd.DataFrame(zip(split_idx[\"valid\"].cpu().tolist(), y_true, val_pred), columns=[\"molecule_idx\", \"label\", \"pred\"])\n",
    "\n",
    "    \"\"\"\n",
    "    get prediction for test\n",
    "    \"\"\"\n",
    "    _, test_pred = get_prediction(model, test_loader)  \n",
    "    test_pred = np.array(test_pred)\n",
    "    \n",
    "    return modelName, valDF, test_pred"
   ]
  },
  {
   "cell_type": "code",
   "execution_count": 7,
   "id": "a4790631-e52c-4343-af17-5569d6a0cf3b",
   "metadata": {},
   "outputs": [
    {
     "name": "stderr",
     "output_type": "stream",
     "text": [
      "Iteration:   0%|                                                                              | 0/1487 [00:00<?, ?it/s]"
     ]
    },
    {
     "name": "stdout",
     "output_type": "stream",
     "text": [
      "gin-virtual-bnn-lastLayer 0.14056678116321564\n"
     ]
    },
    {
     "name": "stderr",
     "output_type": "stream",
     "text": [
      "Iteration: 100%|███████████████████████████████████████████████████████████████████| 1487/1487 [02:03<00:00, 12.08it/s]\n"
     ]
    },
    {
     "name": "stdout",
     "output_type": "stream",
     "text": [
      "gin-virtual-bnn-lastLayer 0.140560120344162\n"
     ]
    },
    {
     "name": "stderr",
     "output_type": "stream",
     "text": [
      "Iteration: 100%|███████████████████████████████████████████████████████████████████| 1475/1475 [02:05<00:00, 11.78it/s]\n"
     ]
    }
   ],
   "source": [
    "ginBNNModelName, ginBNNDF, ginBNN_test_pred = loadPyGeomModel(\"gin-virtual-bnn-lastLayer\", \"gin-virtual-bnn-lastLayer\", \"gin\", True, \"models/gin-virtual-bnn-lastLayer/checkpoint\", BayesianGNN)"
   ]
  },
  {
   "cell_type": "code",
   "execution_count": 8,
   "id": "fc7fe897-0d5d-4a02-8c4f-ba20e39bbe76",
   "metadata": {},
   "outputs": [
    {
     "name": "stderr",
     "output_type": "stream",
     "text": [
      "Iteration:   0%|                                                                      | 2/1487 [00:00<01:39, 14.93it/s]"
     ]
    },
    {
     "name": "stdout",
     "output_type": "stream",
     "text": [
      "gin-virtual-bnn-lastLayer-run2 0.14187973737716675\n"
     ]
    },
    {
     "name": "stderr",
     "output_type": "stream",
     "text": [
      "Iteration: 100%|███████████████████████████████████████████████████████████████████| 1487/1487 [01:33<00:00, 15.93it/s]\n"
     ]
    },
    {
     "name": "stdout",
     "output_type": "stream",
     "text": [
      "gin-virtual-bnn-lastLayer-run2 0.14189966022968292\n"
     ]
    },
    {
     "name": "stderr",
     "output_type": "stream",
     "text": [
      "Iteration: 100%|███████████████████████████████████████████████████████████████████| 1475/1475 [01:37<00:00, 15.14it/s]\n"
     ]
    }
   ],
   "source": [
    "ginBNNRun2ModelName, ginBNNRun2DF, ginBNN_run2_test_pred = loadPyGeomModel(\"gin-virtual-bnn-lastLayer-run2\", \"gin-virtual-bnn-lastLayer\", \"gin\", True, \"models/gin-virtual-bnn-lastLayer-run2/checkpoint\", BayesianGNN)"
   ]
  },
  {
   "cell_type": "code",
   "execution_count": 9,
   "id": "f200bd3b-67c5-4d00-a137-3f67f50466d1",
   "metadata": {},
   "outputs": [
    {
     "name": "stderr",
     "output_type": "stream",
     "text": [
      "Iteration:   0%|                                                                      | 2/1487 [00:00<01:40, 14.71it/s]"
     ]
    },
    {
     "name": "stdout",
     "output_type": "stream",
     "text": [
      "gin-virtual-bnn-lastLayer-run3 0.13970449566841125\n"
     ]
    },
    {
     "name": "stderr",
     "output_type": "stream",
     "text": [
      "Iteration: 100%|███████████████████████████████████████████████████████████████████| 1487/1487 [01:38<00:00, 15.09it/s]\n"
     ]
    },
    {
     "name": "stdout",
     "output_type": "stream",
     "text": [
      "gin-virtual-bnn-lastLayer-run3 0.13963855803012848\n"
     ]
    },
    {
     "name": "stderr",
     "output_type": "stream",
     "text": [
      "Iteration: 100%|███████████████████████████████████████████████████████████████████| 1475/1475 [01:38<00:00, 14.98it/s]\n"
     ]
    }
   ],
   "source": [
    "ginBNNRun3ModelName, ginBNNRun3DF, ginBNN_run3_test_pred = loadPyGeomModel(\"gin-virtual-bnn-lastLayer-run3\", \"gin-virtual-bnn-lastLayer\", \"gin\", True, \"models/gin-virtual-bnn-lastLayer-run3/checkpoint\", BayesianGNN)"
   ]
  },
  {
   "cell_type": "code",
   "execution_count": 10,
   "id": "ae68525d-0fe3-45d6-8325-9ba125e8707c",
   "metadata": {},
   "outputs": [
    {
     "name": "stderr",
     "output_type": "stream",
     "text": [
      "Iteration:   0%|                                                                      | 2/1487 [00:00<01:38, 15.04it/s]"
     ]
    },
    {
     "name": "stdout",
     "output_type": "stream",
     "text": [
      "gin-virtual 0.14212889969348907\n"
     ]
    },
    {
     "name": "stderr",
     "output_type": "stream",
     "text": [
      "Iteration: 100%|███████████████████████████████████████████████████████████████████| 1487/1487 [01:33<00:00, 15.95it/s]\n"
     ]
    },
    {
     "name": "stdout",
     "output_type": "stream",
     "text": [
      "gin-virtual 0.14212889969348907\n"
     ]
    },
    {
     "name": "stderr",
     "output_type": "stream",
     "text": [
      "Iteration: 100%|███████████████████████████████████████████████████████████████████| 1475/1475 [01:39<00:00, 14.84it/s]\n"
     ]
    }
   ],
   "source": [
    "ginModelName, ginDF, gin_test_pred = loadPyGeomModel(\"gin-virtual\", \"gin-virtual\", \"gin\", True, \"models/gin-virtual/checkpoint\", GNN)"
   ]
  },
  {
   "cell_type": "code",
   "execution_count": 11,
   "id": "bde9dd5b-0d4a-4b4a-ad65-1d8c161ef7fc",
   "metadata": {},
   "outputs": [
    {
     "name": "stderr",
     "output_type": "stream",
     "text": [
      "Iteration:   0%|                                                                      | 2/1487 [00:00<01:37, 15.27it/s]"
     ]
    },
    {
     "name": "stdout",
     "output_type": "stream",
     "text": [
      "gin-virtual-run2 0.14319077134132385\n"
     ]
    },
    {
     "name": "stderr",
     "output_type": "stream",
     "text": [
      "Iteration: 100%|███████████████████████████████████████████████████████████████████| 1487/1487 [01:33<00:00, 15.99it/s]\n"
     ]
    },
    {
     "name": "stdout",
     "output_type": "stream",
     "text": [
      "gin-virtual-run2 0.14319078624248505\n"
     ]
    },
    {
     "name": "stderr",
     "output_type": "stream",
     "text": [
      "Iteration: 100%|███████████████████████████████████████████████████████████████████| 1475/1475 [01:36<00:00, 15.36it/s]\n"
     ]
    }
   ],
   "source": [
    "ginRun2ModelName, ginRun2DF, gin_run2_test_pred = loadPyGeomModel(\"gin-virtual-run2\", \"gin-virtual\", \"gin\", True, \"models/gin-virtual-run2-aaron/checkpoint\", GNN)"
   ]
  },
  {
   "cell_type": "code",
   "execution_count": 12,
   "id": "c136a02d-3bb4-4062-80b0-910f8f537a3b",
   "metadata": {},
   "outputs": [
    {
     "name": "stderr",
     "output_type": "stream",
     "text": [
      "Iteration:   0%|                                                                      | 2/1487 [00:00<01:33, 15.87it/s]"
     ]
    },
    {
     "name": "stdout",
     "output_type": "stream",
     "text": [
      "gin-virtual-run3 0.13988327980041504\n"
     ]
    },
    {
     "name": "stderr",
     "output_type": "stream",
     "text": [
      "Iteration: 100%|███████████████████████████████████████████████████████████████████| 1487/1487 [01:33<00:00, 15.90it/s]\n"
     ]
    },
    {
     "name": "stdout",
     "output_type": "stream",
     "text": [
      "gin-virtual-run3 0.13988327980041504\n"
     ]
    },
    {
     "name": "stderr",
     "output_type": "stream",
     "text": [
      "Iteration: 100%|███████████████████████████████████████████████████████████████████| 1475/1475 [01:37<00:00, 15.08it/s]\n"
     ]
    }
   ],
   "source": [
    "ginRun3ModelName, ginRun3DF, gin_run3_test_pred = loadPyGeomModel(\"gin-virtual-run3\", \"gin-virtual\", \"gin\", True, \"models/gin-virtual-run3/checkpoint\", GNN)"
   ]
  },
  {
   "cell_type": "code",
   "execution_count": null,
   "id": "ef095ac4-1cd9-41e1-b1c0-1c34348767ec",
   "metadata": {},
   "outputs": [],
   "source": []
  },
  {
   "cell_type": "markdown",
   "id": "4c6e06e3-307f-4870-bc7c-cbd867a3d5da",
   "metadata": {},
   "source": [
    "## load dgl models"
   ]
  },
  {
   "cell_type": "code",
   "execution_count": 13,
   "id": "c9e9d9d5-9fe5-4ff6-ad03-4831cef0d506",
   "metadata": {},
   "outputs": [],
   "source": [
    "def loadDGLModel(modelName, valFilename, testFilename, zip=False):\n",
    "    valDF = pd.read_csv(valFilename)\n",
    "    if testFilename is None:\n",
    "        test_pred = None\n",
    "    else:\n",
    "        with open(testFilename, \"rb\") as f:\n",
    "            test_pred = np.load(f)\n",
    "            \n",
    "            if zip:\n",
    "                test_pred = test_pred[\"y_pred\"]\n",
    "            \n",
    "    return modelName, valDF, test_pred"
   ]
  },
  {
   "cell_type": "code",
   "execution_count": 14,
   "id": "dc20d548-16e5-4fa4-b085-7ad844edb804",
   "metadata": {},
   "outputs": [],
   "source": [
    "# DiffPool\n",
    "ginDiffPoolModelName, ginDiffPoolDF, ginDiffPool_test_pred = loadDGLModel(\n",
    "    \"gin-virtual-diffpool\", \n",
    "    \"../pcqm4m-dgl/models/gin-virtual-diffpool/gin-virtual-diffPool-validResult.csv\",\n",
    "    \"../pcqm4m-dgl/models/gin-virtual-diffpool/gin-virtual-diffpool-testResult.npy\"\n",
    ")\n",
    "ginDiffPoolDF.rename({\"gin-diffpool-pred\": \"pred\"}, inplace=True, axis=1)\n",
    "\n",
    "# DiffPool run 2\n",
    "ginDiffPoolRun2ModelName, ginDiffPoolRun2DF, ginDiffPoolRun2_test_pred = loadDGLModel(\n",
    "    \"gin-virtual-diffpool-run2\", \n",
    "    \"../pcqm4m-dgl/models/gin-virtual-diffpool-run2/gin-virtual-diffPool-run2-validResult.csv\",\n",
    "    \"../pcqm4m-dgl/models/gin-virtual-diffpool-run2/gin-virtual-diffpool-run2-testResult.npy\"\n",
    ")\n",
    "ginDiffPoolRun2DF.rename({\"gin-diffpool-pred\": \"pred\"}, inplace=True, axis=1)\n",
    "\n",
    "# DiffPool run 3\n",
    "ginDiffPoolRun3ModelName, ginDiffPoolRun3DF, ginDiffPoolRun3_test_pred = loadDGLModel(\n",
    "    \"gin-virtual-diffpool-run3\", \n",
    "    \"../pcqm4m-dgl/models/gin-virtual-diffpool-run3/gin-virtual-diffPool-run3-validResult.csv\",\n",
    "    \"../pcqm4m-dgl/models/gin-virtual-diffpool-run3/gin-virtual-diffpool-run3-testResult.npy\"\n",
    ")\n",
    "ginDiffPoolRun3DF.rename({\"gin-diffpool-pred\": \"pred\"}, inplace=True, axis=1)\n"
   ]
  },
  {
   "cell_type": "code",
   "execution_count": null,
   "id": "e3cd1233-b14c-4637-abde-e95c262abcb7",
   "metadata": {},
   "outputs": [],
   "source": []
  },
  {
   "cell_type": "markdown",
   "id": "d715dba3-7ec9-4df2-afc1-5bba6c297624",
   "metadata": {},
   "source": [
    "## ensembling"
   ]
  },
  {
   "cell_type": "code",
   "execution_count": 15,
   "id": "5741153e-5657-403b-b8c3-c27e2759ac38",
   "metadata": {},
   "outputs": [
    {
     "data": {
      "text/html": [
       "<div>\n",
       "<style scoped>\n",
       "    .dataframe tbody tr th:only-of-type {\n",
       "        vertical-align: middle;\n",
       "    }\n",
       "\n",
       "    .dataframe tbody tr th {\n",
       "        vertical-align: top;\n",
       "    }\n",
       "\n",
       "    .dataframe thead th {\n",
       "        text-align: right;\n",
       "    }\n",
       "</style>\n",
       "<table border=\"1\" class=\"dataframe\">\n",
       "  <thead>\n",
       "    <tr style=\"text-align: right;\">\n",
       "      <th></th>\n",
       "      <th>molecule_idx</th>\n",
       "      <th>label</th>\n",
       "      <th>pred</th>\n",
       "    </tr>\n",
       "  </thead>\n",
       "  <tbody>\n",
       "    <tr>\n",
       "      <th>0</th>\n",
       "      <td>3045360</td>\n",
       "      <td>4.870838</td>\n",
       "      <td>4.860395</td>\n",
       "    </tr>\n",
       "    <tr>\n",
       "      <th>1</th>\n",
       "      <td>3045361</td>\n",
       "      <td>5.322547</td>\n",
       "      <td>5.343346</td>\n",
       "    </tr>\n",
       "    <tr>\n",
       "      <th>2</th>\n",
       "      <td>3045362</td>\n",
       "      <td>5.240913</td>\n",
       "      <td>4.994455</td>\n",
       "    </tr>\n",
       "    <tr>\n",
       "      <th>3</th>\n",
       "      <td>3045363</td>\n",
       "      <td>5.227307</td>\n",
       "      <td>5.107187</td>\n",
       "    </tr>\n",
       "    <tr>\n",
       "      <th>4</th>\n",
       "      <td>3045364</td>\n",
       "      <td>4.868117</td>\n",
       "      <td>5.044456</td>\n",
       "    </tr>\n",
       "  </tbody>\n",
       "</table>\n",
       "</div>"
      ],
      "text/plain": [
       "   molecule_idx     label      pred\n",
       "0       3045360  4.870838  4.860395\n",
       "1       3045361  5.322547  5.343346\n",
       "2       3045362  5.240913  4.994455\n",
       "3       3045363  5.227307  5.107187\n",
       "4       3045364  4.868117  5.044456"
      ]
     },
     "execution_count": 15,
     "metadata": {},
     "output_type": "execute_result"
    }
   ],
   "source": [
    "ginDF.head()"
   ]
  },
  {
   "cell_type": "code",
   "execution_count": 16,
   "id": "595223f5-1dda-4d16-b068-0987b13bc321",
   "metadata": {},
   "outputs": [
    {
     "data": {
      "text/html": [
       "<div>\n",
       "<style scoped>\n",
       "    .dataframe tbody tr th:only-of-type {\n",
       "        vertical-align: middle;\n",
       "    }\n",
       "\n",
       "    .dataframe tbody tr th {\n",
       "        vertical-align: top;\n",
       "    }\n",
       "\n",
       "    .dataframe thead th {\n",
       "        text-align: right;\n",
       "    }\n",
       "</style>\n",
       "<table border=\"1\" class=\"dataframe\">\n",
       "  <thead>\n",
       "    <tr style=\"text-align: right;\">\n",
       "      <th></th>\n",
       "      <th>molecule_idx</th>\n",
       "      <th>label</th>\n",
       "      <th>pred</th>\n",
       "    </tr>\n",
       "  </thead>\n",
       "  <tbody>\n",
       "    <tr>\n",
       "      <th>0</th>\n",
       "      <td>3045360</td>\n",
       "      <td>4.870838</td>\n",
       "      <td>4.855130</td>\n",
       "    </tr>\n",
       "    <tr>\n",
       "      <th>1</th>\n",
       "      <td>3045361</td>\n",
       "      <td>5.322547</td>\n",
       "      <td>5.303571</td>\n",
       "    </tr>\n",
       "    <tr>\n",
       "      <th>2</th>\n",
       "      <td>3045362</td>\n",
       "      <td>5.240913</td>\n",
       "      <td>4.976478</td>\n",
       "    </tr>\n",
       "    <tr>\n",
       "      <th>3</th>\n",
       "      <td>3045363</td>\n",
       "      <td>5.227307</td>\n",
       "      <td>5.126363</td>\n",
       "    </tr>\n",
       "    <tr>\n",
       "      <th>4</th>\n",
       "      <td>3045364</td>\n",
       "      <td>4.868117</td>\n",
       "      <td>5.024355</td>\n",
       "    </tr>\n",
       "  </tbody>\n",
       "</table>\n",
       "</div>"
      ],
      "text/plain": [
       "   molecule_idx     label      pred\n",
       "0       3045360  4.870838  4.855130\n",
       "1       3045361  5.322547  5.303571\n",
       "2       3045362  5.240913  4.976478\n",
       "3       3045363  5.227307  5.126363\n",
       "4       3045364  4.868117  5.024355"
      ]
     },
     "execution_count": 16,
     "metadata": {},
     "output_type": "execute_result"
    }
   ],
   "source": [
    "ginRun2DF.head()"
   ]
  },
  {
   "cell_type": "code",
   "execution_count": 17,
   "id": "d0fce181-2dea-484a-8e3e-bf3e6b302aa9",
   "metadata": {},
   "outputs": [
    {
     "data": {
      "text/html": [
       "<div>\n",
       "<style scoped>\n",
       "    .dataframe tbody tr th:only-of-type {\n",
       "        vertical-align: middle;\n",
       "    }\n",
       "\n",
       "    .dataframe tbody tr th {\n",
       "        vertical-align: top;\n",
       "    }\n",
       "\n",
       "    .dataframe thead th {\n",
       "        text-align: right;\n",
       "    }\n",
       "</style>\n",
       "<table border=\"1\" class=\"dataframe\">\n",
       "  <thead>\n",
       "    <tr style=\"text-align: right;\">\n",
       "      <th></th>\n",
       "      <th>molecule_idx</th>\n",
       "      <th>label</th>\n",
       "      <th>pred</th>\n",
       "    </tr>\n",
       "  </thead>\n",
       "  <tbody>\n",
       "    <tr>\n",
       "      <th>0</th>\n",
       "      <td>3045360</td>\n",
       "      <td>4.870838</td>\n",
       "      <td>4.822958</td>\n",
       "    </tr>\n",
       "    <tr>\n",
       "      <th>1</th>\n",
       "      <td>3045361</td>\n",
       "      <td>5.322547</td>\n",
       "      <td>5.277314</td>\n",
       "    </tr>\n",
       "    <tr>\n",
       "      <th>2</th>\n",
       "      <td>3045362</td>\n",
       "      <td>5.240913</td>\n",
       "      <td>5.092238</td>\n",
       "    </tr>\n",
       "    <tr>\n",
       "      <th>3</th>\n",
       "      <td>3045363</td>\n",
       "      <td>5.227307</td>\n",
       "      <td>5.160536</td>\n",
       "    </tr>\n",
       "    <tr>\n",
       "      <th>4</th>\n",
       "      <td>3045364</td>\n",
       "      <td>4.868117</td>\n",
       "      <td>5.018906</td>\n",
       "    </tr>\n",
       "  </tbody>\n",
       "</table>\n",
       "</div>"
      ],
      "text/plain": [
       "   molecule_idx     label      pred\n",
       "0       3045360  4.870838  4.822958\n",
       "1       3045361  5.322547  5.277314\n",
       "2       3045362  5.240913  5.092238\n",
       "3       3045363  5.227307  5.160536\n",
       "4       3045364  4.868117  5.018906"
      ]
     },
     "execution_count": 17,
     "metadata": {},
     "output_type": "execute_result"
    }
   ],
   "source": [
    "ginRun3DF.head()"
   ]
  },
  {
   "cell_type": "code",
   "execution_count": 18,
   "id": "183b6c52-0eb4-48dd-8de8-b1d12206ce5c",
   "metadata": {},
   "outputs": [
    {
     "data": {
      "text/html": [
       "<div>\n",
       "<style scoped>\n",
       "    .dataframe tbody tr th:only-of-type {\n",
       "        vertical-align: middle;\n",
       "    }\n",
       "\n",
       "    .dataframe tbody tr th {\n",
       "        vertical-align: top;\n",
       "    }\n",
       "\n",
       "    .dataframe thead th {\n",
       "        text-align: right;\n",
       "    }\n",
       "</style>\n",
       "<table border=\"1\" class=\"dataframe\">\n",
       "  <thead>\n",
       "    <tr style=\"text-align: right;\">\n",
       "      <th></th>\n",
       "      <th>molecule_idx</th>\n",
       "      <th>label</th>\n",
       "      <th>pred</th>\n",
       "    </tr>\n",
       "  </thead>\n",
       "  <tbody>\n",
       "    <tr>\n",
       "      <th>0</th>\n",
       "      <td>3045360</td>\n",
       "      <td>4.870838</td>\n",
       "      <td>4.828294</td>\n",
       "    </tr>\n",
       "    <tr>\n",
       "      <th>1</th>\n",
       "      <td>3045361</td>\n",
       "      <td>5.322547</td>\n",
       "      <td>5.326434</td>\n",
       "    </tr>\n",
       "    <tr>\n",
       "      <th>2</th>\n",
       "      <td>3045362</td>\n",
       "      <td>5.240913</td>\n",
       "      <td>5.105650</td>\n",
       "    </tr>\n",
       "    <tr>\n",
       "      <th>3</th>\n",
       "      <td>3045363</td>\n",
       "      <td>5.227307</td>\n",
       "      <td>5.184023</td>\n",
       "    </tr>\n",
       "    <tr>\n",
       "      <th>4</th>\n",
       "      <td>3045364</td>\n",
       "      <td>4.868117</td>\n",
       "      <td>5.030554</td>\n",
       "    </tr>\n",
       "  </tbody>\n",
       "</table>\n",
       "</div>"
      ],
      "text/plain": [
       "   molecule_idx     label      pred\n",
       "0       3045360  4.870838  4.828294\n",
       "1       3045361  5.322547  5.326434\n",
       "2       3045362  5.240913  5.105650\n",
       "3       3045363  5.227307  5.184023\n",
       "4       3045364  4.868117  5.030554"
      ]
     },
     "execution_count": 18,
     "metadata": {},
     "output_type": "execute_result"
    }
   ],
   "source": [
    "ginBNNDF.head()"
   ]
  },
  {
   "cell_type": "code",
   "execution_count": 19,
   "id": "42bac579-adb9-4381-9da1-bb511448ab36",
   "metadata": {},
   "outputs": [
    {
     "data": {
      "text/html": [
       "<div>\n",
       "<style scoped>\n",
       "    .dataframe tbody tr th:only-of-type {\n",
       "        vertical-align: middle;\n",
       "    }\n",
       "\n",
       "    .dataframe tbody tr th {\n",
       "        vertical-align: top;\n",
       "    }\n",
       "\n",
       "    .dataframe thead th {\n",
       "        text-align: right;\n",
       "    }\n",
       "</style>\n",
       "<table border=\"1\" class=\"dataframe\">\n",
       "  <thead>\n",
       "    <tr style=\"text-align: right;\">\n",
       "      <th></th>\n",
       "      <th>molecule_idx</th>\n",
       "      <th>label</th>\n",
       "      <th>pred</th>\n",
       "    </tr>\n",
       "  </thead>\n",
       "  <tbody>\n",
       "    <tr>\n",
       "      <th>0</th>\n",
       "      <td>3045360</td>\n",
       "      <td>4.870838</td>\n",
       "      <td>4.847350</td>\n",
       "    </tr>\n",
       "    <tr>\n",
       "      <th>1</th>\n",
       "      <td>3045361</td>\n",
       "      <td>5.322547</td>\n",
       "      <td>5.331726</td>\n",
       "    </tr>\n",
       "    <tr>\n",
       "      <th>2</th>\n",
       "      <td>3045362</td>\n",
       "      <td>5.240913</td>\n",
       "      <td>5.080100</td>\n",
       "    </tr>\n",
       "    <tr>\n",
       "      <th>3</th>\n",
       "      <td>3045363</td>\n",
       "      <td>5.227307</td>\n",
       "      <td>5.175034</td>\n",
       "    </tr>\n",
       "    <tr>\n",
       "      <th>4</th>\n",
       "      <td>3045364</td>\n",
       "      <td>4.868117</td>\n",
       "      <td>4.954695</td>\n",
       "    </tr>\n",
       "  </tbody>\n",
       "</table>\n",
       "</div>"
      ],
      "text/plain": [
       "   molecule_idx     label      pred\n",
       "0       3045360  4.870838  4.847350\n",
       "1       3045361  5.322547  5.331726\n",
       "2       3045362  5.240913  5.080100\n",
       "3       3045363  5.227307  5.175034\n",
       "4       3045364  4.868117  4.954695"
      ]
     },
     "execution_count": 19,
     "metadata": {},
     "output_type": "execute_result"
    }
   ],
   "source": [
    "ginBNNRun2DF.head()"
   ]
  },
  {
   "cell_type": "code",
   "execution_count": 20,
   "id": "25f3aaa0-878f-45e9-95d8-02255f78cd13",
   "metadata": {},
   "outputs": [
    {
     "data": {
      "text/html": [
       "<div>\n",
       "<style scoped>\n",
       "    .dataframe tbody tr th:only-of-type {\n",
       "        vertical-align: middle;\n",
       "    }\n",
       "\n",
       "    .dataframe tbody tr th {\n",
       "        vertical-align: top;\n",
       "    }\n",
       "\n",
       "    .dataframe thead th {\n",
       "        text-align: right;\n",
       "    }\n",
       "</style>\n",
       "<table border=\"1\" class=\"dataframe\">\n",
       "  <thead>\n",
       "    <tr style=\"text-align: right;\">\n",
       "      <th></th>\n",
       "      <th>molecule_idx</th>\n",
       "      <th>label</th>\n",
       "      <th>pred</th>\n",
       "    </tr>\n",
       "  </thead>\n",
       "  <tbody>\n",
       "    <tr>\n",
       "      <th>0</th>\n",
       "      <td>3045360</td>\n",
       "      <td>4.870838</td>\n",
       "      <td>4.861645</td>\n",
       "    </tr>\n",
       "    <tr>\n",
       "      <th>1</th>\n",
       "      <td>3045361</td>\n",
       "      <td>5.322547</td>\n",
       "      <td>5.314055</td>\n",
       "    </tr>\n",
       "    <tr>\n",
       "      <th>2</th>\n",
       "      <td>3045362</td>\n",
       "      <td>5.240913</td>\n",
       "      <td>5.151411</td>\n",
       "    </tr>\n",
       "    <tr>\n",
       "      <th>3</th>\n",
       "      <td>3045363</td>\n",
       "      <td>5.227307</td>\n",
       "      <td>5.173428</td>\n",
       "    </tr>\n",
       "    <tr>\n",
       "      <th>4</th>\n",
       "      <td>3045364</td>\n",
       "      <td>4.868117</td>\n",
       "      <td>5.005583</td>\n",
       "    </tr>\n",
       "  </tbody>\n",
       "</table>\n",
       "</div>"
      ],
      "text/plain": [
       "   molecule_idx     label      pred\n",
       "0       3045360  4.870838  4.861645\n",
       "1       3045361  5.322547  5.314055\n",
       "2       3045362  5.240913  5.151411\n",
       "3       3045363  5.227307  5.173428\n",
       "4       3045364  4.868117  5.005583"
      ]
     },
     "execution_count": 20,
     "metadata": {},
     "output_type": "execute_result"
    }
   ],
   "source": [
    "ginBNNRun3DF.head()"
   ]
  },
  {
   "cell_type": "code",
   "execution_count": 21,
   "id": "adf1dcbf-0d77-4437-ae3f-fbec087f307f",
   "metadata": {},
   "outputs": [
    {
     "data": {
      "text/html": [
       "<div>\n",
       "<style scoped>\n",
       "    .dataframe tbody tr th:only-of-type {\n",
       "        vertical-align: middle;\n",
       "    }\n",
       "\n",
       "    .dataframe tbody tr th {\n",
       "        vertical-align: top;\n",
       "    }\n",
       "\n",
       "    .dataframe thead th {\n",
       "        text-align: right;\n",
       "    }\n",
       "</style>\n",
       "<table border=\"1\" class=\"dataframe\">\n",
       "  <thead>\n",
       "    <tr style=\"text-align: right;\">\n",
       "      <th></th>\n",
       "      <th>Unnamed: 0</th>\n",
       "      <th>molecule_idx</th>\n",
       "      <th>label</th>\n",
       "      <th>pred</th>\n",
       "    </tr>\n",
       "  </thead>\n",
       "  <tbody>\n",
       "    <tr>\n",
       "      <th>0</th>\n",
       "      <td>0</td>\n",
       "      <td>3045360</td>\n",
       "      <td>4.870838</td>\n",
       "      <td>4.857602</td>\n",
       "    </tr>\n",
       "    <tr>\n",
       "      <th>1</th>\n",
       "      <td>1</td>\n",
       "      <td>3045361</td>\n",
       "      <td>5.322547</td>\n",
       "      <td>5.303278</td>\n",
       "    </tr>\n",
       "    <tr>\n",
       "      <th>2</th>\n",
       "      <td>2</td>\n",
       "      <td>3045362</td>\n",
       "      <td>5.240913</td>\n",
       "      <td>5.092427</td>\n",
       "    </tr>\n",
       "    <tr>\n",
       "      <th>3</th>\n",
       "      <td>3</td>\n",
       "      <td>3045363</td>\n",
       "      <td>5.227307</td>\n",
       "      <td>5.085762</td>\n",
       "    </tr>\n",
       "    <tr>\n",
       "      <th>4</th>\n",
       "      <td>4</td>\n",
       "      <td>3045364</td>\n",
       "      <td>4.868117</td>\n",
       "      <td>5.007533</td>\n",
       "    </tr>\n",
       "  </tbody>\n",
       "</table>\n",
       "</div>"
      ],
      "text/plain": [
       "   Unnamed: 0  molecule_idx     label      pred\n",
       "0           0       3045360  4.870838  4.857602\n",
       "1           1       3045361  5.322547  5.303278\n",
       "2           2       3045362  5.240913  5.092427\n",
       "3           3       3045363  5.227307  5.085762\n",
       "4           4       3045364  4.868117  5.007533"
      ]
     },
     "execution_count": 21,
     "metadata": {},
     "output_type": "execute_result"
    }
   ],
   "source": [
    "ginDiffPoolDF.head()"
   ]
  },
  {
   "cell_type": "code",
   "execution_count": 22,
   "id": "bc7d9b6c-c557-43f6-a231-73d0e34eb101",
   "metadata": {},
   "outputs": [
    {
     "data": {
      "text/html": [
       "<div>\n",
       "<style scoped>\n",
       "    .dataframe tbody tr th:only-of-type {\n",
       "        vertical-align: middle;\n",
       "    }\n",
       "\n",
       "    .dataframe tbody tr th {\n",
       "        vertical-align: top;\n",
       "    }\n",
       "\n",
       "    .dataframe thead th {\n",
       "        text-align: right;\n",
       "    }\n",
       "</style>\n",
       "<table border=\"1\" class=\"dataframe\">\n",
       "  <thead>\n",
       "    <tr style=\"text-align: right;\">\n",
       "      <th></th>\n",
       "      <th>Unnamed: 0</th>\n",
       "      <th>molecule_idx</th>\n",
       "      <th>label</th>\n",
       "      <th>pred</th>\n",
       "    </tr>\n",
       "  </thead>\n",
       "  <tbody>\n",
       "    <tr>\n",
       "      <th>0</th>\n",
       "      <td>0</td>\n",
       "      <td>3045360</td>\n",
       "      <td>4.870838</td>\n",
       "      <td>4.864157</td>\n",
       "    </tr>\n",
       "    <tr>\n",
       "      <th>1</th>\n",
       "      <td>1</td>\n",
       "      <td>3045361</td>\n",
       "      <td>5.322547</td>\n",
       "      <td>5.341830</td>\n",
       "    </tr>\n",
       "    <tr>\n",
       "      <th>2</th>\n",
       "      <td>2</td>\n",
       "      <td>3045362</td>\n",
       "      <td>5.240913</td>\n",
       "      <td>5.151256</td>\n",
       "    </tr>\n",
       "    <tr>\n",
       "      <th>3</th>\n",
       "      <td>3</td>\n",
       "      <td>3045363</td>\n",
       "      <td>5.227307</td>\n",
       "      <td>5.208165</td>\n",
       "    </tr>\n",
       "    <tr>\n",
       "      <th>4</th>\n",
       "      <td>4</td>\n",
       "      <td>3045364</td>\n",
       "      <td>4.868117</td>\n",
       "      <td>5.012193</td>\n",
       "    </tr>\n",
       "  </tbody>\n",
       "</table>\n",
       "</div>"
      ],
      "text/plain": [
       "   Unnamed: 0  molecule_idx     label      pred\n",
       "0           0       3045360  4.870838  4.864157\n",
       "1           1       3045361  5.322547  5.341830\n",
       "2           2       3045362  5.240913  5.151256\n",
       "3           3       3045363  5.227307  5.208165\n",
       "4           4       3045364  4.868117  5.012193"
      ]
     },
     "execution_count": 22,
     "metadata": {},
     "output_type": "execute_result"
    }
   ],
   "source": [
    "ginDiffPoolRun2DF.head()"
   ]
  },
  {
   "cell_type": "code",
   "execution_count": 23,
   "id": "57d268ae-3686-4ea6-b549-35c40ce9e0f7",
   "metadata": {},
   "outputs": [
    {
     "data": {
      "text/html": [
       "<div>\n",
       "<style scoped>\n",
       "    .dataframe tbody tr th:only-of-type {\n",
       "        vertical-align: middle;\n",
       "    }\n",
       "\n",
       "    .dataframe tbody tr th {\n",
       "        vertical-align: top;\n",
       "    }\n",
       "\n",
       "    .dataframe thead th {\n",
       "        text-align: right;\n",
       "    }\n",
       "</style>\n",
       "<table border=\"1\" class=\"dataframe\">\n",
       "  <thead>\n",
       "    <tr style=\"text-align: right;\">\n",
       "      <th></th>\n",
       "      <th>Unnamed: 0</th>\n",
       "      <th>molecule_idx</th>\n",
       "      <th>label</th>\n",
       "      <th>pred</th>\n",
       "    </tr>\n",
       "  </thead>\n",
       "  <tbody>\n",
       "    <tr>\n",
       "      <th>0</th>\n",
       "      <td>0</td>\n",
       "      <td>3045360</td>\n",
       "      <td>4.870838</td>\n",
       "      <td>4.893821</td>\n",
       "    </tr>\n",
       "    <tr>\n",
       "      <th>1</th>\n",
       "      <td>1</td>\n",
       "      <td>3045361</td>\n",
       "      <td>5.322547</td>\n",
       "      <td>5.331312</td>\n",
       "    </tr>\n",
       "    <tr>\n",
       "      <th>2</th>\n",
       "      <td>2</td>\n",
       "      <td>3045362</td>\n",
       "      <td>5.240913</td>\n",
       "      <td>5.159584</td>\n",
       "    </tr>\n",
       "    <tr>\n",
       "      <th>3</th>\n",
       "      <td>3</td>\n",
       "      <td>3045363</td>\n",
       "      <td>5.227307</td>\n",
       "      <td>5.216216</td>\n",
       "    </tr>\n",
       "    <tr>\n",
       "      <th>4</th>\n",
       "      <td>4</td>\n",
       "      <td>3045364</td>\n",
       "      <td>4.868117</td>\n",
       "      <td>5.020232</td>\n",
       "    </tr>\n",
       "  </tbody>\n",
       "</table>\n",
       "</div>"
      ],
      "text/plain": [
       "   Unnamed: 0  molecule_idx     label      pred\n",
       "0           0       3045360  4.870838  4.893821\n",
       "1           1       3045361  5.322547  5.331312\n",
       "2           2       3045362  5.240913  5.159584\n",
       "3           3       3045363  5.227307  5.216216\n",
       "4           4       3045364  4.868117  5.020232"
      ]
     },
     "execution_count": 23,
     "metadata": {},
     "output_type": "execute_result"
    }
   ],
   "source": [
    "ginDiffPoolRun3DF.head()"
   ]
  },
  {
   "cell_type": "code",
   "execution_count": 24,
   "id": "a71458e3-3f84-4cbc-ab3b-4b8707f786a7",
   "metadata": {},
   "outputs": [],
   "source": [
    "\"\"\"\n",
    "get all values\n",
    "\"\"\"\n",
    "dictVals = {\n",
    "    1: (ginModelName, ginDF[\"pred\"], gin_test_pred),\n",
    "    2: (ginRun2ModelName, ginRun2DF[\"pred\"], gin_run2_test_pred),\n",
    "    3: (ginRun3ModelName, ginRun3DF[\"pred\"], gin_run3_test_pred),\n",
    "    4: (ginBNNModelName, ginBNNDF[\"pred\"], ginBNN_test_pred),\n",
    "    5: (ginBNNRun2ModelName, ginBNNRun2DF[\"pred\"], ginBNN_run2_test_pred),\n",
    "    6: (ginBNNRun3ModelName, ginBNNRun3DF[\"pred\"], ginBNN_run3_test_pred),\n",
    "    7: (ginDiffPoolModelName, ginDiffPoolDF[\"pred\"], ginDiffPool_test_pred),\n",
    "    8: (ginDiffPoolRun2ModelName, ginDiffPoolRun2DF[\"pred\"], ginDiffPoolRun2_test_pred),\n",
    "    9: (ginDiffPoolRun3ModelName, ginDiffPoolRun3DF[\"pred\"], ginDiffPoolRun3_test_pred),\n",
    "}\n",
    "\n",
    "label = ginDF[\"label\"]"
   ]
  },
  {
   "cell_type": "code",
   "execution_count": 25,
   "id": "82d69d18-1093-4e7f-8842-8205eee0943d",
   "metadata": {},
   "outputs": [],
   "source": [
    "from importlib import reload \n",
    "import tqdm\n",
    "reload(tqdm)\n",
    "from tqdm.notebook import tqdm"
   ]
  },
  {
   "cell_type": "code",
   "execution_count": 26,
   "id": "57945215-7d2c-436e-a616-b4cd6f668a52",
   "metadata": {},
   "outputs": [],
   "source": [
    "def calcMAE(pairIndex, dictVals, label):\n",
    "    if len(pairIndex) == 0:\n",
    "        return np.float64(\"inf\")\n",
    "    \n",
    "    # get raw time series\n",
    "    pairs = [dictVals[x][1] for x in pairIndex]\n",
    "    \n",
    "    mean_pred = np.mean(list(zip(*pairs)), axis=1)\n",
    "    evaluator = PCQM4MEvaluator()\n",
    "    input_dict = {\"y_true\": torch.tensor(label), \"y_pred\": torch.tensor(mean_pred)}\n",
    "    score = evaluator.eval(input_dict)[\"mae\"]\n",
    "    return score\n"
   ]
  },
  {
   "cell_type": "markdown",
   "id": "eb2d85ef-c396-4c1b-899d-f5c868fe27f2",
   "metadata": {},
   "source": [
    "# analyse ensemble"
   ]
  },
  {
   "cell_type": "code",
   "execution_count": 27,
   "id": "b8380e2c-ceaa-4f5d-a3a1-c16498519e61",
   "metadata": {},
   "outputs": [
    {
     "data": {
      "text/plain": [
       "[('gin-virtual', 0.1421289060488439),\n",
       " ('gin-virtual-run2', 0.14319079301574725),\n",
       " ('gin-virtual-run3', 0.13988327211625884),\n",
       " ('gin-virtual-bnn-lastLayer', 0.140560116701134),\n",
       " ('gin-virtual-bnn-lastLayer-run2', 0.14189966053861183),\n",
       " ('gin-virtual-bnn-lastLayer-run3', 0.1396385635127161),\n",
       " ('gin-virtual-diffpool', 0.1370588209054448),\n",
       " ('gin-virtual-diffpool-run2', 0.13730227082210703),\n",
       " ('gin-virtual-diffpool-run3', 0.1373865085519866)]"
      ]
     },
     "execution_count": 27,
     "metadata": {},
     "output_type": "execute_result"
    }
   ],
   "source": [
    "# original score\n",
    "[(dictVals[k][0], calcMAE([k], dictVals, label)) for k in dictVals.keys()]"
   ]
  },
  {
   "cell_type": "code",
   "execution_count": 29,
   "id": "3d5e112e-d108-47bd-884f-7898ec926d5f",
   "metadata": {},
   "outputs": [],
   "source": [
    "import matplotlib.pyplot as plt"
   ]
  },
  {
   "cell_type": "code",
   "execution_count": 41,
   "id": "63e71fe7-8623-4315-ac08-99917292eb2a",
   "metadata": {},
   "outputs": [
    {
     "data": {
      "application/vnd.jupyter.widget-view+json": {
       "model_id": "55fa8950c1d444e2be3b7cf82bc2b30f",
       "version_major": 2,
       "version_minor": 0
      },
      "text/plain": [
       "  0%|          | 0/3 [00:00<?, ?it/s]"
      ]
     },
     "metadata": {},
     "output_type": "display_data"
    },
    {
     "data": {
      "image/png": "[encoded data removed]",
      "text/plain": [
       "<Figure size 720x720 with 1 Axes>"
      ]
     },
     "metadata": {
      "needs_background": "light"
     },
     "output_type": "display_data"
    },
    {
     "data": {
      "text/html": [
       "<div>\n",
       "<style scoped>\n",
       "    .dataframe tbody tr th:only-of-type {\n",
       "        vertical-align: middle;\n",
       "    }\n",
       "\n",
       "    .dataframe tbody tr th {\n",
       "        vertical-align: top;\n",
       "    }\n",
       "\n",
       "    .dataframe thead th {\n",
       "        text-align: right;\n",
       "    }\n",
       "</style>\n",
       "<table border=\"1\" class=\"dataframe\">\n",
       "  <thead>\n",
       "    <tr style=\"text-align: right;\">\n",
       "      <th></th>\n",
       "      <th>run_0</th>\n",
       "      <th>run_1</th>\n",
       "      <th>run_2</th>\n",
       "      <th>ensemble</th>\n",
       "    </tr>\n",
       "  </thead>\n",
       "  <tbody>\n",
       "    <tr>\n",
       "      <th>gin-virtual</th>\n",
       "      <td>0.142129</td>\n",
       "      <td>0.143191</td>\n",
       "      <td>0.139883</td>\n",
       "      <td>0.133462</td>\n",
       "    </tr>\n",
       "    <tr>\n",
       "      <th>gin-virtual-bnn</th>\n",
       "      <td>0.140560</td>\n",
       "      <td>0.141900</td>\n",
       "      <td>0.139639</td>\n",
       "      <td>0.132961</td>\n",
       "    </tr>\n",
       "    <tr>\n",
       "      <th>gin-virtual-diffpool</th>\n",
       "      <td>0.137059</td>\n",
       "      <td>0.137302</td>\n",
       "      <td>0.137387</td>\n",
       "      <td>0.134614</td>\n",
       "    </tr>\n",
       "    <tr>\n",
       "      <th>ensemble-all</th>\n",
       "      <td>0.000000</td>\n",
       "      <td>0.000000</td>\n",
       "      <td>0.000000</td>\n",
       "      <td>0.129020</td>\n",
       "    </tr>\n",
       "  </tbody>\n",
       "</table>\n",
       "</div>"
      ],
      "text/plain": [
       "                         run_0     run_1     run_2  ensemble\n",
       "gin-virtual           0.142129  0.143191  0.139883  0.133462\n",
       "gin-virtual-bnn       0.140560  0.141900  0.139639  0.132961\n",
       "gin-virtual-diffpool  0.137059  0.137302  0.137387  0.134614\n",
       "ensemble-all          0.000000  0.000000  0.000000  0.129020"
      ]
     },
     "execution_count": 41,
     "metadata": {},
     "output_type": "execute_result"
    }
   ],
   "source": [
    "pairIndices = [\n",
    "    (\"gin-virtual\", [1, 2, 3]),\n",
    "    (\"gin-virtual-bnn\", [4, 5, 6]),\n",
    "    (\"gin-virtual-diffpool\", [7, 8, 9])\n",
    "]\n",
    "ensembleAllIndex = (\"ensemble-all\", [1, 2, 3, 4, 5, 6, 7, 8, 9])\n",
    "\n",
    "ensembleResults = []\n",
    "ensembleNames = []\n",
    "evaluator = PCQM4MEvaluator()\n",
    "for modelName, pairIndex in tqdm(pairIndices):\n",
    "    ensembleNames.append(modelName)\n",
    "    \n",
    "    ensembleResult = []\n",
    "    # MC Runs\n",
    "    for i in range(3):\n",
    "        # get index\n",
    "        if i < len(pairIndex):\n",
    "            index = pairIndex[i]\n",
    "            pred = dictVals[index][1]\n",
    "            input_dict = {\"y_true\": torch.tensor(label), \"y_pred\": torch.tensor(pred)}\n",
    "            score = evaluator.eval(input_dict)[\"mae\"]\n",
    "            ensembleResult.append(score)\n",
    "        else:\n",
    "            # no mode models\n",
    "            ensembleResult.append(0)\n",
    "    # ensemble mean\n",
    "    pairs = [dictVals[x][1] for x in pairIndex]\n",
    "    pairName = [dictVals[x][0] for x in pairIndex]\n",
    "    mean_pred = np.mean(list(zip(*pairs)), axis=1)\n",
    "    input_dict = {\"y_true\": torch.tensor(label), \"y_pred\": torch.tensor(mean_pred)}\n",
    "    score = evaluator.eval(input_dict)[\"mae\"]\n",
    "    ensembleResult.append(score)\n",
    "    \n",
    "    ensembleResults.append(ensembleResult)\n",
    "        \n",
    "# append mean, ensemble of all\n",
    "ensembleNames.append(ensembleAllIndex[0])\n",
    "pairs = [dictVals[x][1] for x in ensembleAllIndex[1]]\n",
    "mean_pred = np.mean(list(zip(*pairs)), axis=1)\n",
    "input_dict = {\"y_true\": torch.tensor(label), \"y_pred\": torch.tensor(mean_pred)}\n",
    "score = evaluator.eval(input_dict)[\"mae\"]\n",
    "ensembleResults.append([0, 0, 0, score])\n",
    "        \n",
    "ensembleResultsDF = pd.DataFrame(ensembleResults, columns=[\"run_0\", \"run_1\", \"run_2\", \"ensemble\"])\n",
    "ensembleResultsDF.index = ensembleNames\n",
    "# plot\n",
    "ensembleResultsDF.plot.bar(rot=0, figsize=(10, 10))\n",
    "plt.ylim(0.128, 0.145)\n",
    "plt.legend(fontsize=20)\n",
    "plt.ylabel(\"MAE\", fontsize=24)\n",
    "plt.xlabel(\"Model\", fontsize=24)\n",
    "plt.tick_params(axis=\"both\", labelsize=15)\n",
    "plt.show()\n",
    "\n",
    "ensembleResultsDF"
   ]
  },
  {
   "cell_type": "markdown",
   "id": "d4196134-636a-4ddc-8932-f2a6991e243b",
   "metadata": {},
   "source": [
    "# uncertainty analysis"
   ]
  },
  {
   "cell_type": "code",
   "execution_count": 48,
   "id": "1322cd5f-d209-49f4-8283-6c61ee0833c2",
   "metadata": {},
   "outputs": [],
   "source": [
    "def plotUncertaintyEnsemble(pairIndex):\n",
    "    pairs = [dictVals[x][1] for x in pairIndex]\n",
    "    pairsName = [dictVals[x][0] for x in pairIndex]\n",
    "\n",
    "    resultDF = pd.DataFrame(zip(*pairs), columns=pairsName)\n",
    "    resultDF[\"molecule_idx\"] = ginDF[\"molecule_idx\"]\n",
    "    resultDF[\"label\"] = ginDF[\"label\"]\n",
    "\n",
    "    # get mean prediction of ensemble\n",
    "    resultDF[\"mean_pred\"] = resultDF[pairsName].mean(axis=1)\n",
    "\n",
    "    # get uncertainty\n",
    "    resultDF[\"std_pred\"] = resultDF[pairsName].std(axis=1)\n",
    "    resultDF[\"log_std_pred\"] = np.log(resultDF[\"std_pred\"])\n",
    "\n",
    "    # get error\n",
    "    resultDF[\"error\"] = abs(resultDF[\"mean_pred\"] - resultDF[\"label\"])\n",
    "\n",
    "    # floored uncertainty\n",
    "    resultDF[\"floor_std_pred\"] = resultDF[\"std_pred\"].apply(lambda x: int(x*10)/10)\n",
    "\n",
    "    # print error\n",
    "    input_dict = {\"y_true\": torch.tensor(resultDF[\"label\"]), \"y_pred\": torch.tensor(resultDF[\"mean_pred\"])}\n",
    "    mae = evaluator.eval(input_dict)[\"mae\"]\n",
    "    print(mae)\n",
    "\n",
    "    # print correlation\n",
    "    print(resultDF[[\"error\", \"std_pred\"]].corr())\n",
    "\n",
    "    # analyse uncertainty vs error\n",
    "    # uncertainty vs error\n",
    "    resultDF.plot.scatter(\"std_pred\", \"error\", figsize=(5, 5), alpha=0.3)\n",
    "    # uncertainty vs error\n",
    "    resultDF.plot.scatter(\"log_std_pred\", \"error\", figsize=(5, 5), alpha=0.3)\n",
    "    # mean-pred vs error\n",
    "    resultDF.plot.scatter(\"mean_pred\", \"error\", figsize=(5, 5), alpha=0.3)\n",
    "    # plot boxplot of error\n",
    "    resultDF[\"floor_std_pred\"] = resultDF[\"floor_std_pred\"].apply(lambda x: np.float(x))\n",
    "    resultDF.boxplot(column=\"error\", by=\"floor_std_pred\", showfliers=False, figsize=(10, 10))\n",
    "    plt.ylabel(\"MAE\", fontsize=24)\n",
    "    plt.xlabel(\"Uncertainty\", fontsize=24)\n",
    "    plt.show()\n",
    "    \n",
    "    # histogram of uncertainty distribution\n",
    "    resultDF[[\"log_std_pred\"]].plot.hist(figsize=(10, 5))\n",
    "\n"
   ]
  },
  {
   "cell_type": "code",
   "execution_count": 49,
   "id": "2f0f521f-8bff-47f7-b3dc-ba7cb8f6ba17",
   "metadata": {},
   "outputs": [
    {
     "name": "stdout",
     "output_type": "stream",
     "text": [
      "0.12901995097357222\n",
      "             error  std_pred\n",
      "error     1.000000  0.518088\n",
      "std_pred  0.518088  1.000000\n"
     ]
    },
    {
     "name": "stderr",
     "output_type": "stream",
     "text": [
      "C:\\Users\\eek31\\AppData\\Roaming\\Python\\Python37\\site-packages\\ipykernel_launcher.py:38: DeprecationWarning: `np.float` is a deprecated alias for the builtin `float`. To silence this warning, use `float` by itself. Doing this will not modify any behavior and is safe. If you specifically wanted the numpy scalar type, use `np.float64` here.\n",
      "Deprecated in NumPy 1.20; for more details and guidance: https://numpy.org/devdocs/release/1.20.0-notes.html#deprecations\n"
     ]
    },
    {
     "data": {
      "image/png": "[encoded data removed]",
      "text/plain": [
       "<Figure size 360x360 with 1 Axes>"
      ]
     },
     "metadata": {
      "needs_background": "light"
     },
     "output_type": "display_data"
    },
    {
     "data": {
      "image/png": "[encoded data removed]",
      "text/plain": [
       "<Figure size 360x360 with 1 Axes>"
      ]
     },
     "metadata": {
      "needs_background": "light"
     },
     "output_type": "display_data"
    },
    {
     "data": {
      "image/png": "[encoded data removed]",
      "text/plain": [
       "<Figure size 360x360 with 1 Axes>"
      ]
     },
     "metadata": {
      "needs_background": "light"
     },
     "output_type": "display_data"
    },
    {
     "data": {
      "image/png": "[encoded data removed]",
      "text/plain": [
       "<Figure size 720x720 with 1 Axes>"
      ]
     },
     "metadata": {
      "needs_background": "light"
     },
     "output_type": "display_data"
    },
    {
     "data": {
      "image/png": "[encoded data removed]",
      "text/plain": [
       "<Figure size 720x360 with 1 Axes>"
      ]
     },
     "metadata": {
      "needs_background": "light"
     },
     "output_type": "display_data"
    }
   ],
   "source": [
    "pairIndex = [1, 2, 3, 4, 5, 6, 7, 8, 9]\n",
    "plotUncertaintyEnsemble(pairIndex)"
   ]
  },
  {
   "cell_type": "code",
   "execution_count": null,
   "id": "c33b9ed8-0a2b-48c0-ba08-153986cc157b",
   "metadata": {},
   "outputs": [],
   "source": []
  },
  {
   "cell_type": "markdown",
   "id": "f39fcc9a-b7bf-436b-9bd5-0f28785bf0ed",
   "metadata": {},
   "source": [
    "# publication"
   ]
  },
  {
   "cell_type": "raw",
   "id": "b7a3bde7-4f60-40be-ba04-813a35c862a6",
   "metadata": {},
   "source": [
    "storyline:\n",
    "\n",
    "1. we propose to use an ensemble of three models (baseline, baseline with BNN last layer, baseline with diffpool in embedding), all trained separately. We take the mean of prediction, and get better compared to all. [need to see if this is replicable - check with kamil]\n",
    "2. we observe some weak positive correlation between uncertainty in ensembles' prediction and error in prediction i.e. the higher the uncertainty, the higher the error. Uncertainty is useful\n",
    "3. find out which molecules have high uncertainty? [ask joaquin or kelvin if there are interesting patterns here]"
   ]
  },
  {
   "cell_type": "markdown",
   "id": "eba7e3b9-3315-411d-8fc2-66920b55288b",
   "metadata": {},
   "source": [
    "- instead of stddev try range (lower than 30 data points statistics)\n",
    "- box plot for uncertainty vs error"
   ]
  },
  {
   "cell_type": "code",
   "execution_count": null,
   "id": "be74dd49-90cd-4667-bafa-133c4865e26c",
   "metadata": {},
   "outputs": [],
   "source": []
  }
 ],
 "metadata": {
  "kernelspec": {
   "display_name": "my-rdkit-env",
   "language": "python",
   "name": "my-rdkit-env"
  },
  "language_info": {
   "codemirror_mode": {
    "name": "ipython",
    "version": 3
   },
   "file_extension": ".py",
   "mimetype": "text/x-python",
   "name": "python",
   "nbconvert_exporter": "python",
   "pygments_lexer": "ipython3",
   "version": "3.7.5"
  }
 },
 "nbformat": 4,
 "nbformat_minor": 5
}
