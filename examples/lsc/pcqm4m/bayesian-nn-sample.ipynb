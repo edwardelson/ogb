{
 "cells": [
  {
   "cell_type": "code",
   "execution_count": 1,
   "id": "c81466e4",
   "metadata": {},
   "outputs": [
    {
     "data": {
      "text/plain": [
       "True"
      ]
     },
     "execution_count": 1,
     "metadata": {},
     "output_type": "execute_result"
    }
   ],
   "source": [
    "import torch\n",
    "\n",
    "torch.cuda.is_available()"
   ]
  },
  {
   "cell_type": "code",
   "execution_count": 2,
   "id": "dc72169e",
   "metadata": {},
   "outputs": [],
   "source": [
    "import pandas as pd\n",
    "import zipfile\n",
    "import urllib.request\n",
    "import time\n",
    "import copy\n",
    "import math\n",
    "import matplotlib.pyplot as plt\n",
    "import numpy as np\n",
    "import seaborn as sns\n",
    "import torch\n",
    "import torch.nn as nn\n",
    "import torch.nn.functional as F\n",
    "from torch.autograd import Variable\n",
    "from torch.optim import Optimizer\n",
    "from sklearn.model_selection import KFold\n",
    "\n",
    "from torchvision import datasets, transforms\n",
    "from torchvision.utils import make_grid\n",
    "from tqdm import tqdm, trange\n"
   ]
  },
  {
   "cell_type": "code",
   "execution_count": 3,
   "id": "2918277a",
   "metadata": {},
   "outputs": [],
   "source": [
    "import os\n",
    "\n",
    "# get args from main_gnn CLI\n",
    "class Argument(object):\n",
    "    name = \"args\"\n",
    "    \n",
    "args = Argument()\n",
    "args.batch_size = 256\n",
    "args.num_workers = 0\n",
    "args.num_layers = 5\n",
    "args.emb_dim = 600\n",
    "args.drop_ratio = 0\n",
    "args.graph_pooling = \"sum\"\n",
    "args.checkpoint_dir = \"checkpoint\"\n",
    "args.device = 0"
   ]
  },
  {
   "cell_type": "markdown",
   "id": "08398bcf",
   "metadata": {},
   "source": [
    "## bbp\n",
    "\n",
    "ref: https://github.com/georgelamb19/chempropBayes/blob/master/chemprop/bayes/bbp.py\n"
   ]
  },
  {
   "cell_type": "code",
   "execution_count": 4,
   "id": "8119cada",
   "metadata": {},
   "outputs": [],
   "source": [
    "import torch\n",
    "import torch.nn as nn\n",
    "import torch.nn.functional as F\n",
    "import numpy as np\n",
    "from torch.autograd import Variable"
   ]
  },
  {
   "cell_type": "code",
   "execution_count": 5,
   "id": "78ae9f01",
   "metadata": {},
   "outputs": [],
   "source": [
    "import matplotlib.pyplot as plt\n",
    "import GPy"
   ]
  },
  {
   "cell_type": "markdown",
   "id": "b3e600e3",
   "metadata": {},
   "source": [
    "## single-layer BayesLinear"
   ]
  },
  {
   "cell_type": "code",
   "execution_count": 6,
   "id": "8b9ead5d",
   "metadata": {},
   "outputs": [],
   "source": [
    "def KLD_cost(mu_p, sig_p, mu_q, sig_q):\n",
    "    KLD = 0.5 * (2 * torch.log(sig_p / sig_q) - 1 + (sig_q / sig_p).pow(2) + ((mu_p - mu_q) / sig_p).pow(2)).sum()\n",
    "    # https://arxiv.org/abs/1312.6114 0.5 * sum(1 + log(sigma^2) - mu^2 - sigma^2)\n",
    "    #print(2 * torch.log(sig_p / sig_q).sum())\n",
    "    #print(((sig_q / sig_p).pow(2)).sum())\n",
    "    #print((((mu_p - mu_q) / sig_p).pow(2)).sum())\n",
    "    return KLD\n",
    "\n",
    "\n",
    "class BayesLinear(nn.Module):\n",
    "    \n",
    "    \"\"\"\n",
    "    Linear Layer where activations are sampled from a fully factorised normal which is given by aggregating\n",
    "    the moments of each weight's normal distribution. The KL divergence is obtained in closed form. Only works\n",
    "    with gaussian priors.\n",
    "    \"\"\"\n",
    "    \n",
    "    def __init__(self, n_in, n_out, prior_sig, bias = True):\n",
    "        \n",
    "        super(BayesLinear, self).__init__()\n",
    "        \n",
    "        self.n_in = n_in\n",
    "        self.n_out = n_out\n",
    "        self.bias = bias\n",
    "        self.prior_sig = prior_sig\n",
    "        \n",
    "        # initialise mu for weights\n",
    "        self.W_mu = nn.Parameter(torch.Tensor(self.n_in, self.n_out).uniform_(-0.02, 0.02))\n",
    "        \n",
    "        # initialise mu for biases\n",
    "        if self.bias:\n",
    "            self.b_mu = nn.Parameter(torch.Tensor(self.n_out).uniform_(-0.02, 0.02))\n",
    "\n",
    "            \n",
    "    def init_rho(self, p_min, p_max):\n",
    "        self.W_p = nn.Parameter(torch.Tensor(self.n_in, self.n_out).uniform_(p_min, p_max))\n",
    "        if self.bias:\n",
    "            self.b_p = nn.Parameter(torch.Tensor(self.n_out).uniform_(p_min, p_max))     \n",
    "\n",
    "\n",
    "    def forward(self, X, sample=False):\n",
    "        \n",
    "        if sample:\n",
    "\n",
    "            ### weights\n",
    "            \n",
    "            std_w = 1e-6 + F.softplus(self.W_p, beta=1, threshold=20) # compute stds for weights\n",
    "            act_W_mu = torch.mm(X, self.W_mu)  # activation means\n",
    "            act_W_std = torch.sqrt(torch.clamp_min(torch.mm(X.pow(2), std_w.pow(2)),1e-6)) # actiavtion stds\n",
    "            \n",
    "            eps_W = Variable(self.W_mu.data.new(act_W_std.size()).normal_(mean=0, std=1)) # draw samples from 0,1 gaussian\n",
    "            act_W_out = act_W_mu + act_W_std * eps_W # sample weights from 'posterior'\n",
    "            \n",
    "            output = act_W_out\n",
    "            kld = KLD_cost(mu_p=0, sig_p=self.prior_sig, mu_q=self.W_mu, sig_q=std_w)\n",
    "            \n",
    "            if self.bias:\n",
    "                \n",
    "                std_b = 1e-6 + F.softplus(self.b_p, beta=1, threshold=20) # compute stds for biases\n",
    "                eps_b = Variable(self.b_mu.data.new(std_b.size()).normal_(mean=0, std=1)) # draw samples from 0,1 gaussian\n",
    "                act_b_out = self.b_mu + std_b * eps_b # sample biases from 'posterior'\n",
    "                output += act_b_out.unsqueeze(0).expand(X.shape[0], -1)\n",
    "                kld += KLD_cost(mu_p=0, sig_p=self.prior_sig, mu_q=self.b_mu, sig_q=std_b)\n",
    "       \n",
    "            return output, kld\n",
    "        \n",
    "        \n",
    "        else:\n",
    "            \n",
    "            output = torch.mm(X, self.W_mu)\n",
    "            \n",
    "            # kld is just standard regularisation term\n",
    "            kld = (0.5*((self.W_mu / self.prior_sig).pow(2))+torch.log(self.prior_sig*torch.sqrt(torch.tensor(2*np.pi)))).sum()\n",
    "            \n",
    "            if self.bias:\n",
    "                output += self.b_mu.expand(X.size()[0], self.n_out)\n",
    "                \n",
    "                kld += (0.5*((self.b_mu / self.prior_sig).pow(2))+torch.log(self.prior_sig*torch.sqrt(torch.tensor(2*np.pi)))).sum()\n",
    "            \n",
    "            \n",
    "            return output, kld"
   ]
  },
  {
   "cell_type": "code",
   "execution_count": 7,
   "id": "bfc64f5c",
   "metadata": {},
   "outputs": [],
   "source": [
    "def neg_log_like(output, target, sigma):\n",
    "    \"\"\"\n",
    "    Negative gaussian log likelihood (scaled, per example)\n",
    "    \"\"\"\n",
    "    \n",
    "    exponent = -0.5*torch.sum(\n",
    "        (target - output)**2/sigma**2\n",
    "        , 1)\n",
    "\n",
    "    log_coeff = -torch.sum(torch.log(sigma)) - len(sigma) * torch.log(torch.sqrt(torch.tensor(2*np.pi)))\n",
    "    \n",
    "    scale = 1 / len(exponent)\n",
    "    \n",
    "    return - scale * (log_coeff + exponent).sum()"
   ]
  },
  {
   "cell_type": "code",
   "execution_count": 8,
   "id": "539a1619",
   "metadata": {},
   "outputs": [
    {
     "data": {
      "text/plain": [
       "(800, 1)"
      ]
     },
     "execution_count": 8,
     "metadata": {},
     "output_type": "execute_result"
    }
   ],
   "source": [
    "np.random.seed(2)\n",
    "\n",
    "no_points = 400\n",
    "lengthscale = 1\n",
    "variance = 1.0\n",
    "sig_noise = 0.3\n",
    "\n",
    "x1 = np.random.uniform(-3, 3, no_points)[:, None]\n",
    "x1.sort(axis = 0)\n",
    "x2 = np.random.uniform(6, 9, no_points)[:, None]\n",
    "x2.sort(axis = 0)\n",
    "\n",
    "x = np.append(x1, x2, axis=0)\n",
    "\n",
    "x.shape"
   ]
  },
  {
   "cell_type": "code",
   "execution_count": 9,
   "id": "886f5c2f",
   "metadata": {},
   "outputs": [
    {
     "data": {
      "text/plain": [
       "<matplotlib.collections.PathCollection at 0x1a2fe9e19c8>"
      ]
     },
     "execution_count": 9,
     "metadata": {},
     "output_type": "execute_result"
    },
    {
     "data": {
      "image/png": "[encoded data removed]",
      "text/plain": [
       "<Figure size 432x288 with 1 Axes>"
      ]
     },
     "metadata": {
      "needs_background": "light"
     },
     "output_type": "display_data"
    }
   ],
   "source": [
    "\"\"\" DATA 1 \"\"\"\n",
    "# # GP is simply used to produce covariance\n",
    "# x = np.random.uniform(-3, 3, no_points)[:, None]\n",
    "\n",
    "# k = GPy.kern.RBF(input_dim=1, variance=variance, lengthscale=lengthscale)\n",
    "# C = k.K(x, x) + np.eye(no_points) * (x + 2)**2 * sig_noise**2\n",
    "\n",
    "# k, C.shape\n",
    "\n",
    "# # covariance matrix from RBF kernel\n",
    "# y = np.random.multivariate_normal(np.zeros((no_points)), C)[:, None] + 10\n",
    "# # y = (y - y.mean())\n",
    "\n",
    "# y.shape\n",
    "\n",
    "\n",
    "\"\"\" DATA 2 \"\"\"\n",
    "\n",
    "y = x * -2 + np.random.normal(size=x.shape) + 30\n",
    "\n",
    "plt.scatter(x, y)"
   ]
  },
  {
   "cell_type": "code",
   "execution_count": 10,
   "id": "87ee5382",
   "metadata": {},
   "outputs": [
    {
     "data": {
      "text/plain": [
       "((250, 1), (250, 1))"
      ]
     },
     "execution_count": 10,
     "metadata": {},
     "output_type": "execute_result"
    },
    {
     "data": {
      "image/png": "[encoded data removed]",
      "text/plain": [
       "<Figure size 432x288 with 1 Axes>"
      ]
     },
     "metadata": {
      "needs_background": "light"
     },
     "output_type": "display_data"
    }
   ],
   "source": [
    "# normalise train data\n",
    "randomIndices = np.random.choice(range(x.shape[0]), 250, replace=False)\n",
    "\n",
    "x_train = x[randomIndices]\n",
    "y_train = y[randomIndices]\n",
    "\n",
    "plt.scatter(x_train, y_train)\n",
    "\n",
    "x_train.shape, y_train.shape"
   ]
  },
  {
   "cell_type": "code",
   "execution_count": 11,
   "id": "65acecc1",
   "metadata": {},
   "outputs": [
    {
     "name": "stdout",
     "output_type": "stream",
     "text": [
      "tensor(42.5040, grad_fn=<AddBackward0>)\n",
      "tensor(19.7235, grad_fn=<AddBackward0>)\n",
      "tensor(10.0472, grad_fn=<AddBackward0>)\n",
      "tensor(5.7912, grad_fn=<AddBackward0>)\n",
      "tensor(4.2726, grad_fn=<AddBackward0>)\n",
      "tensor(3.8408, grad_fn=<AddBackward0>)\n",
      "tensor(3.7438, grad_fn=<AddBackward0>)\n",
      "tensor(3.7267, grad_fn=<AddBackward0>)\n",
      "tensor(3.7243, grad_fn=<AddBackward0>)\n",
      "tensor(3.7240, grad_fn=<AddBackward0>)\n"
     ]
    }
   ],
   "source": [
    "\"\"\" define model \"\"\"\n",
    "model = BayesLinear(n_in=1, n_out=1, prior_sig=1, bias = True)\n",
    "# extra addition\n",
    "# model.init_rho(-0.02, 0.02)\n",
    "model.init_rho(-5.5, 1)\n",
    "\n",
    "# define optimiser\n",
    "optimizer = torch.optim.Adam(model.parameters(), lr = 0.1)\n",
    "\n",
    "# train\n",
    "train_data_size = x_train.shape[0]\n",
    "log_noise = nn.Parameter(torch.ones(1))\n",
    "\n",
    "for i in range(1000):\n",
    "    optimizer.zero_grad()\n",
    "\n",
    "    # get out and loss\n",
    "    out, kld = model.forward(torch.Tensor(x_train), sample=False)\n",
    "    \n",
    "    # total loss = prediction error + kld\n",
    "    kl_loss = kld / train_data_size\n",
    "    loss = neg_log_like(out, torch.Tensor(y_train), torch.exp(log_noise)) + kl_loss \n",
    "\n",
    "    loss.backward()\n",
    "    optimizer.step()\n",
    "    \n",
    "    if i % 100 ==0:\n",
    "        print(loss)"
   ]
  },
  {
   "cell_type": "code",
   "execution_count": 12,
   "id": "bdeb6d35",
   "metadata": {},
   "outputs": [
    {
     "data": {
      "text/plain": [
       "<matplotlib.collections.PathCollection at 0x1a2810c8408>"
      ]
     },
     "execution_count": 12,
     "metadata": {},
     "output_type": "execute_result"
    },
    {
     "data": {
      "image/png": "[encoded data removed]",
      "text/plain": [
       "<Figure size 432x288 with 1 Axes>"
      ]
     },
     "metadata": {
      "needs_background": "light"
     },
     "output_type": "display_data"
    }
   ],
   "source": [
    "\"\"\"without sample uncertainty \"\"\"\n",
    "out, kld = model(torch.Tensor(x), sample=False)\n",
    "\n",
    "plt.scatter(x, y)\n",
    "plt.scatter(x.flatten(), out.cpu().detach().numpy().flatten())"
   ]
  },
  {
   "cell_type": "code",
   "execution_count": 13,
   "id": "6c75c82a",
   "metadata": {},
   "outputs": [
    {
     "name": "stderr",
     "output_type": "stream",
     "text": [
      "100%|██████████████████████████████████████████████████████████████████████████████| 100/100 [00:00<00:00, 1886.73it/s]\n"
     ]
    },
    {
     "data": {
      "text/plain": [
       "<matplotlib.collections.PolyCollection at 0x1a281021d48>"
      ]
     },
     "execution_count": 13,
     "metadata": {},
     "output_type": "execute_result"
    },
    {
     "data": {
      "image/png": "[encoded data removed]",
      "text/plain": [
       "<Figure size 432x288 with 1 Axes>"
      ]
     },
     "metadata": {
      "needs_background": "light"
     },
     "output_type": "display_data"
    }
   ],
   "source": [
    "\"\"\" with sample uncertainty \"\"\"\n",
    "\n",
    "# get epistemic uncertainty by sampling many times\n",
    "xsample = torch.linspace(-15, 15, 200).view(-1, 1)\n",
    "\n",
    "samples, noises = [], []\n",
    "for i in tqdm(range(100)):\n",
    "\n",
    "    # network return preds and loss. Preds are made of mean and var \n",
    "    preds, _ = model(xsample, sample=True)\n",
    "\n",
    "    # append samples and noise\n",
    "    pred_mean = preds[:, 0].cpu().data.numpy() \n",
    "    samples.append(pred_mean)\n",
    "\n",
    "samples = np.array(samples)\n",
    "means = samples.mean(axis=0)\n",
    "\n",
    "# get noises (No aleatoric since model outputs single number)\n",
    "# aleatoric is obtained from network output. Average noise across 100 runs\n",
    "epistemic = samples.var(axis=0)**0.5\n",
    "# cap uncertainty that's too high\n",
    "epistemic = np.minimum(epistemic, 10e3)\n",
    "\n",
    "# total uncertainty\n",
    "total_unc = epistemic\n",
    "\n",
    "# plt.plot(xsample, epistemic)\n",
    "\n",
    "# plot original data\n",
    "plt.scatter(x, y)\n",
    "\n",
    "# plot means of prediction\n",
    "plt.plot(xsample, means, \"r\")\n",
    "\n",
    "# # plot noise\n",
    "plt.fill_between(xsample[:, 0], means - total_unc, means + total_unc, alpha = 0.4)\n"
   ]
  },
  {
   "cell_type": "code",
   "execution_count": null,
   "id": "d66e9e45",
   "metadata": {},
   "outputs": [],
   "source": []
  },
  {
   "cell_type": "markdown",
   "id": "7aed79e6",
   "metadata": {},
   "source": [
    "## multi-layer BayesLinear"
   ]
  },
  {
   "cell_type": "code",
   "execution_count": 14,
   "id": "9be5efb0",
   "metadata": {},
   "outputs": [],
   "source": [
    "class ModelBBP(nn.Module):\n",
    "    def __init__(self):\n",
    "        super(ModelBBP, self).__init__()\n",
    "        self.prior_sig = torch.Tensor(0)\n",
    "        \n",
    "        hidden_dim = 100\n",
    "        \n",
    "        self.l1 = BayesLinear(n_in=1, n_out=hidden_dim, prior_sig=1, bias = True)\n",
    "        self.l1.init_rho(-5.5, -1)\n",
    "        self.l2a = BayesLinear(n_in=hidden_dim, n_out=hidden_dim, prior_sig=1, bias = True)\n",
    "        self.l2a.init_rho(-5.5, -1)\n",
    "        self.l2b = BayesLinear(n_in=hidden_dim, n_out=hidden_dim, prior_sig=1, bias = True)\n",
    "        self.l2b.init_rho(-5.5, -1)\n",
    "        self.l3 = BayesLinear(n_in=hidden_dim, n_out=1, prior_sig=1, bias = True)\n",
    "        self.l3.init_rho(-5.5, -1)\n",
    "        self.activation = nn.ReLU(inplace=True)\n",
    "        \n",
    "    def forward(self, X, sample=False):\n",
    "        \n",
    "        X, tkl = self.l1(X, sample)\n",
    "        X = self.activation(X)\n",
    "\n",
    "        X, kl = self.l2a(X, sample)\n",
    "        X = self.activation(X)\n",
    "        tkl += kl\n",
    "\n",
    "        X, kl = self.l2b(X, sample)\n",
    "        X = self.activation(X)\n",
    "        tkl += kl\n",
    "        \n",
    "        X, kl = self.l3(X, sample)\n",
    "#         X = self.activation(X)\n",
    "        tkl += kl\n",
    "        \n",
    "        return X, tkl"
   ]
  },
  {
   "cell_type": "code",
   "execution_count": 15,
   "id": "f38f33bd",
   "metadata": {},
   "outputs": [
    {
     "data": {
      "text/plain": [
       "(800, 1)"
      ]
     },
     "execution_count": 15,
     "metadata": {},
     "output_type": "execute_result"
    }
   ],
   "source": [
    "np.random.seed(2)\n",
    "\n",
    "no_points = 400\n",
    "lengthscale = 1\n",
    "variance = 1.0\n",
    "sig_noise = 0.3\n",
    "\n",
    "x1 = np.random.uniform(-3, 3, no_points)[:, None]\n",
    "x1.sort(axis = 0)\n",
    "x2 = np.random.uniform(6, 9, no_points)[:, None]\n",
    "x2.sort(axis = 0)\n",
    "\n",
    "x = np.append(x1, x2, axis=0)\n",
    "\n",
    "x.shape"
   ]
  },
  {
   "cell_type": "code",
   "execution_count": 16,
   "id": "7928860c",
   "metadata": {},
   "outputs": [
    {
     "data": {
      "text/plain": [
       "<matplotlib.collections.PathCollection at 0x1a280037f08>"
      ]
     },
     "execution_count": 16,
     "metadata": {},
     "output_type": "execute_result"
    },
    {
     "data": {
      "image/png": "[encoded data removed]",
      "text/plain": [
       "<Figure size 432x288 with 1 Axes>"
      ]
     },
     "metadata": {
      "needs_background": "light"
     },
     "output_type": "display_data"
    }
   ],
   "source": [
    "\"\"\" DATA 1 \"\"\"\n",
    "# # GP is simply used to produce covariance\n",
    "# x = np.random.uniform(-3, 3, no_points)[:, None]\n",
    "\n",
    "# k = GPy.kern.RBF(input_dim=1, variance=variance, lengthscale=lengthscale)\n",
    "# C = k.K(x, x) + np.eye(no_points) * (x + 2)**2 * sig_noise**2\n",
    "\n",
    "# k, C.shape\n",
    "\n",
    "# # covariance matrix from RBF kernel\n",
    "# y = np.random.multivariate_normal(np.zeros((no_points)), C)[:, None] + 10\n",
    "# # y = (y - y.mean())\n",
    "\n",
    "# y.shape\n",
    "\n",
    "\n",
    "\"\"\" DATA 2 \"\"\"\n",
    "\n",
    "# y = x * -2 + np.random.normal(size=x.shape) + 30\n",
    "\n",
    "\n",
    "\"\"\" DATA 3 \"\"\"\n",
    "# y = 50*np.sin(0.8*x) + 100 + 10*np.random.normal(size=x.shape)\n",
    "y = 2*np.sin(0.8*x) + 5 + 0.1*np.random.normal(size=x.shape)\n",
    "\n",
    "plt.scatter(x, y)"
   ]
  },
  {
   "cell_type": "code",
   "execution_count": 17,
   "id": "de006606",
   "metadata": {},
   "outputs": [
    {
     "data": {
      "text/plain": [
       "((250, 1), (250, 1))"
      ]
     },
     "execution_count": 17,
     "metadata": {},
     "output_type": "execute_result"
    },
    {
     "data": {
      "image/png": "[encoded data removed]",
      "text/plain": [
       "<Figure size 432x288 with 1 Axes>"
      ]
     },
     "metadata": {
      "needs_background": "light"
     },
     "output_type": "display_data"
    }
   ],
   "source": [
    "# normalise train data\n",
    "randomIndices = np.random.choice(range(x.shape[0]), 250, replace=False)\n",
    "\n",
    "x_train = x[randomIndices]\n",
    "y_train = y[randomIndices]\n",
    "\n",
    "plt.scatter(x_train, y_train)\n",
    "\n",
    "x_train.shape, y_train.shape"
   ]
  },
  {
   "cell_type": "code",
   "execution_count": 23,
   "id": "31ac4021",
   "metadata": {},
   "outputs": [
    {
     "name": "stdout",
     "output_type": "stream",
     "text": [
      "tensor(87.8269, grad_fn=<AddBackward0>)\n",
      "tensor(78.2027, grad_fn=<AddBackward0>)\n",
      "tensor(77.1428, grad_fn=<AddBackward0>)\n",
      "tensor(76.8040, grad_fn=<AddBackward0>)\n",
      "tensor(76.9403, grad_fn=<AddBackward0>)\n",
      "tensor(76.5281, grad_fn=<AddBackward0>)\n",
      "tensor(76.4554, grad_fn=<AddBackward0>)\n",
      "tensor(76.4205, grad_fn=<AddBackward0>)\n",
      "tensor(76.3901, grad_fn=<AddBackward0>)\n",
      "tensor(76.3704, grad_fn=<AddBackward0>)\n"
     ]
    }
   ],
   "source": [
    "\"\"\" define model \"\"\"\n",
    "model = ModelBBP()\n",
    "\n",
    "# define optimiser\n",
    "optimizer = torch.optim.Adam(model.parameters(), lr = 0.1)\n",
    "\n",
    "# train\n",
    "train_data_size = x_train.shape[0]\n",
    "log_noise = nn.Parameter(torch.ones(1)*0.001)\n",
    "\n",
    "for i in range(1000):\n",
    "    optimizer.zero_grad()\n",
    "\n",
    "    # get out and loss\n",
    "    out, kld = model.forward(torch.Tensor(x_train), sample=False)\n",
    "    \n",
    "    # total loss = prediction error + kld\n",
    "    kl_loss = kld / train_data_size\n",
    "    loss = neg_log_like(out, torch.Tensor(y_train), torch.exp(log_noise)) + kl_loss \n",
    "\n",
    "    loss.backward()\n",
    "    optimizer.step()\n",
    "    \n",
    "    if i % 100 ==0:\n",
    "        print(loss)"
   ]
  },
  {
   "cell_type": "code",
   "execution_count": 24,
   "id": "b1fc2a77",
   "metadata": {},
   "outputs": [
    {
     "data": {
      "text/plain": [
       "<matplotlib.collections.PathCollection at 0x1a2856bf1c8>"
      ]
     },
     "execution_count": 24,
     "metadata": {},
     "output_type": "execute_result"
    },
    {
     "data": {
      "image/png": "[encoded data removed]",
      "text/plain": [
       "<Figure size 432x288 with 1 Axes>"
      ]
     },
     "metadata": {
      "needs_background": "light"
     },
     "output_type": "display_data"
    }
   ],
   "source": [
    "\"\"\"without sample uncertainty \"\"\"\n",
    "out, kld = model(torch.Tensor(x), sample=False)\n",
    "\n",
    "plt.scatter(x, y)\n",
    "plt.scatter(x.flatten(), out.cpu().detach().numpy().flatten())"
   ]
  },
  {
   "cell_type": "code",
   "execution_count": 25,
   "id": "96b77b86",
   "metadata": {},
   "outputs": [
    {
     "name": "stderr",
     "output_type": "stream",
     "text": [
      "100%|███████████████████████████████████████████████████████████████████████████████| 100/100 [00:00<00:00, 226.24it/s]\n"
     ]
    },
    {
     "data": {
      "text/plain": [
       "<matplotlib.collections.PolyCollection at 0x1a28571ce08>"
      ]
     },
     "execution_count": 25,
     "metadata": {},
     "output_type": "execute_result"
    },
    {
     "data": {
      "image/png": "[encoded data removed]",
      "text/plain": [
       "<Figure size 432x288 with 1 Axes>"
      ]
     },
     "metadata": {
      "needs_background": "light"
     },
     "output_type": "display_data"
    }
   ],
   "source": [
    "\"\"\" with sample uncertainty \"\"\"\n",
    "\n",
    "# get epistemic uncertainty by sampling mFany times\n",
    "xsample = torch.linspace(-10, 10, 200).view(-1, 1)\n",
    "# xsample = torch.Tensor(x) \n",
    "\n",
    "samples, noises = [], []\n",
    "for i in tqdm(range(100)):\n",
    "\n",
    "    # network return preds and loss. Preds are made of mean and var \n",
    "    preds, _ = model(xsample, sample=True)\n",
    "\n",
    "    # append samples and noise\n",
    "    pred_mean = preds[:, 0].cpu().data.numpy() \n",
    "    samples.append(pred_mean)\n",
    "\n",
    "samples = np.array(samples)\n",
    "means = samples.mean(axis=0)\n",
    "\n",
    "# get noises (No aleatoric since model outputs single number)\n",
    "# aleatoric is obtained from network output. Average noise across 100 runs\n",
    "epistemic = samples.var(axis=0)**0.5\n",
    "# cap uncertainty that's too high\n",
    "epistemic = np.minimum(epistemic, 1e5)\n",
    "\n",
    "# total uncertainty\n",
    "total_unc = epistemic\n",
    "\n",
    "# plt.plot(xsample, epistemic)\n",
    "\n",
    "# plot original data\n",
    "plt.scatter(x, y)\n",
    "\n",
    "# plot means of prediction\n",
    "plt.plot(xsample, means, \"r\")\n",
    "\n",
    "# # plot noise\n",
    "plt.fill_between(xsample[:, 0], means - total_unc, means + total_unc, alpha = 0.4)\n"
   ]
  },
  {
   "cell_type": "markdown",
   "id": "c7a6c1dc",
   "metadata": {},
   "source": [
    "seems like the rho initiation is very important. If it's too big - becomes too uncertain (e.g -0.02 to 0.02). But (-5.5 to -1) seems ideal"
   ]
  },
  {
   "cell_type": "code",
   "execution_count": null,
   "id": "667c8f16",
   "metadata": {},
   "outputs": [],
   "source": []
  },
  {
   "cell_type": "markdown",
   "id": "0c96448d",
   "metadata": {},
   "source": [
    "## torch-bnn"
   ]
  },
  {
   "cell_type": "code",
   "execution_count": 84,
   "id": "71f08093",
   "metadata": {},
   "outputs": [],
   "source": [
    "import torchbnn as bnn\n",
    "import torch\n",
    "import torch.nn as nn\n",
    "import torch.optim as optim"
   ]
  },
  {
   "cell_type": "code",
   "execution_count": 127,
   "id": "f1f8af3d",
   "metadata": {},
   "outputs": [
    {
     "data": {
      "image/png": "[encoded data removed]",
      "text/plain": [
       "<Figure size 432x288 with 1 Axes>"
      ]
     },
     "metadata": {
      "needs_background": "light"
     },
     "output_type": "display_data"
    },
    {
     "data": {
      "image/png": "[encoded data removed]",
      "text/plain": [
       "<Figure size 432x288 with 1 Axes>"
      ]
     },
     "metadata": {
      "needs_background": "light"
     },
     "output_type": "display_data"
    },
    {
     "data": {
      "text/plain": [
       "((250, 1), (250, 1))"
      ]
     },
     "execution_count": 127,
     "metadata": {},
     "output_type": "execute_result"
    }
   ],
   "source": [
    "\"\"\" DATA 1 \"\"\"\n",
    "# # GP is simply used to produce covariance\n",
    "# x = np.random.uniform(-3, 3, no_points)[:, None]\n",
    "\n",
    "# k = GPy.kern.RBF(input_dim=1, variance=variance, lengthscale=lengthscale)\n",
    "# C = k.K(x, x) + np.eye(no_points) * (x + 2)**2 * sig_noise**2\n",
    "\n",
    "# k, C.shape\n",
    "\n",
    "# # covariance matrix from RBF kernel\n",
    "# y = np.random.multivariate_normal(np.zeros((no_points)), C)[:, None] + 10\n",
    "# # y = (y - y.mean())\n",
    "\n",
    "# y.shape\n",
    "\n",
    "\n",
    "\"\"\" DATA 2 \"\"\"\n",
    "\n",
    "# y = x * -2 + np.random.normal(size=x.shape) + 30\n",
    "\n",
    "\n",
    "\"\"\" DATA 3 \"\"\"\n",
    "y = 50*np.sin(0.8*x) + 100 + 10*np.random.normal(size=x.shape)\n",
    "# y = 2*np.sin(0.8*x) + 5 + 0.1*np.random.normal(size=x.shape)\n",
    "\n",
    "plt.scatter(x, y)\n",
    "plt.show()\n",
    "\n",
    "# normalise train data\n",
    "randomIndices = np.random.choice(range(x.shape[0]), 250, replace=False)\n",
    "\n",
    "x_train = x[randomIndices]\n",
    "y_train = y[randomIndices]\n",
    "\n",
    "plt.scatter(x_train, y_train)\n",
    "plt.show()\n",
    "\n",
    "x_train.shape, y_train.shape"
   ]
  },
  {
   "cell_type": "code",
   "execution_count": 128,
   "id": "e636cdac",
   "metadata": {},
   "outputs": [],
   "source": [
    "model = nn.Sequential(\n",
    "    bnn.BayesLinear(prior_mu=0, prior_sigma=0.1, in_features=1, out_features=100),\n",
    "    nn.ReLU(),\n",
    "    bnn.BayesLinear(prior_mu=0, prior_sigma=0.1, in_features=100, out_features=100),\n",
    "    nn.ReLU(),\n",
    "    bnn.BayesLinear(prior_mu=0, prior_sigma=0.1, in_features=100, out_features=100),\n",
    "    nn.ReLU(),\n",
    "    bnn.BayesLinear(prior_mu=0, prior_sigma=0.1, in_features=100, out_features=1),\n",
    ")\n",
    "\n",
    "mse_loss = nn.MSELoss()\n",
    "kl_loss = bnn.BKLLoss(reduction='mean', last_layer_only=False)\n",
    "kl_weight = 0.01\n",
    "\n",
    "optimizer = optim.Adam(model.parameters(), lr=0.01)"
   ]
  },
  {
   "cell_type": "code",
   "execution_count": 129,
   "id": "7ea9b857",
   "metadata": {
    "scrolled": true
   },
   "outputs": [
    {
     "name": "stderr",
     "output_type": "stream",
     "text": [
      "  1%|▌                                                                              | 22/3000 [00:00<00:14, 210.58it/s]"
     ]
    },
    {
     "name": "stdout",
     "output_type": "stream",
     "text": [
      "tensor([9582.4385], grad_fn=<AddBackward0>)\n"
     ]
    },
    {
     "name": "stderr",
     "output_type": "stream",
     "text": [
      "  4%|███▍                                                                          | 132/3000 [00:00<00:13, 215.26it/s]"
     ]
    },
    {
     "name": "stdout",
     "output_type": "stream",
     "text": [
      "tensor([876.9670], grad_fn=<AddBackward0>)\n"
     ]
    },
    {
     "name": "stderr",
     "output_type": "stream",
     "text": [
      "  8%|██████▏                                                                       | 237/3000 [00:01<00:13, 199.61it/s]"
     ]
    },
    {
     "name": "stdout",
     "output_type": "stream",
     "text": [
      "tensor([372.3940], grad_fn=<AddBackward0>)\n"
     ]
    },
    {
     "name": "stderr",
     "output_type": "stream",
     "text": [
      " 11%|████████▊                                                                     | 339/3000 [00:01<00:13, 199.49it/s]"
     ]
    },
    {
     "name": "stdout",
     "output_type": "stream",
     "text": [
      "tensor([554.2575], grad_fn=<AddBackward0>)\n"
     ]
    },
    {
     "name": "stderr",
     "output_type": "stream",
     "text": [
      " 14%|██████████▉                                                                   | 419/3000 [00:02<00:13, 197.99it/s]"
     ]
    },
    {
     "name": "stdout",
     "output_type": "stream",
     "text": [
      "tensor([443.3065], grad_fn=<AddBackward0>)\n"
     ]
    },
    {
     "name": "stderr",
     "output_type": "stream",
     "text": [
      " 18%|██████████████                                                                | 539/3000 [00:02<00:12, 193.03it/s]"
     ]
    },
    {
     "name": "stdout",
     "output_type": "stream",
     "text": [
      "tensor([251.2219], grad_fn=<AddBackward0>)\n"
     ]
    },
    {
     "name": "stderr",
     "output_type": "stream",
     "text": [
      " 21%|████████████████                                                              | 620/3000 [00:03<00:12, 197.49it/s]"
     ]
    },
    {
     "name": "stdout",
     "output_type": "stream",
     "text": [
      "tensor([200.7816], grad_fn=<AddBackward0>)\n"
     ]
    },
    {
     "name": "stderr",
     "output_type": "stream",
     "text": [
      " 24%|██████████████████▋                                                           | 721/3000 [00:03<00:11, 194.40it/s]"
     ]
    },
    {
     "name": "stdout",
     "output_type": "stream",
     "text": [
      "tensor([500.9584], grad_fn=<AddBackward0>)\n"
     ]
    },
    {
     "name": "stderr",
     "output_type": "stream",
     "text": [
      " 27%|█████████████████████▎                                                        | 821/3000 [00:04<00:11, 194.36it/s]"
     ]
    },
    {
     "name": "stdout",
     "output_type": "stream",
     "text": [
      "tensor([204.4312], grad_fn=<AddBackward0>)\n"
     ]
    },
    {
     "name": "stderr",
     "output_type": "stream",
     "text": [
      " 31%|███████████████████████▉                                                      | 922/3000 [00:04<00:10, 195.07it/s]"
     ]
    },
    {
     "name": "stdout",
     "output_type": "stream",
     "text": [
      "tensor([393.8483], grad_fn=<AddBackward0>)\n"
     ]
    },
    {
     "name": "stderr",
     "output_type": "stream",
     "text": [
      " 34%|██████████████████████████▏                                                  | 1020/3000 [00:05<00:10, 183.47it/s]"
     ]
    },
    {
     "name": "stdout",
     "output_type": "stream",
     "text": [
      "tensor([146.6310], grad_fn=<AddBackward0>)\n"
     ]
    },
    {
     "name": "stderr",
     "output_type": "stream",
     "text": [
      " 37%|████████████████████████████▋                                                | 1117/3000 [00:05<00:09, 188.46it/s]"
     ]
    },
    {
     "name": "stdout",
     "output_type": "stream",
     "text": [
      "tensor([125.4728], grad_fn=<AddBackward0>)\n"
     ]
    },
    {
     "name": "stderr",
     "output_type": "stream",
     "text": [
      " 41%|███████████████████████████████▋                                             | 1237/3000 [00:06<00:09, 192.37it/s]"
     ]
    },
    {
     "name": "stdout",
     "output_type": "stream",
     "text": [
      "tensor([256.1136], grad_fn=<AddBackward0>)\n"
     ]
    },
    {
     "name": "stderr",
     "output_type": "stream",
     "text": [
      " 45%|██████████████████████████████████▎                                          | 1337/3000 [00:06<00:08, 191.77it/s]"
     ]
    },
    {
     "name": "stdout",
     "output_type": "stream",
     "text": [
      "tensor([280.7927], grad_fn=<AddBackward0>)\n"
     ]
    },
    {
     "name": "stderr",
     "output_type": "stream",
     "text": [
      " 48%|████████████████████████████████████▊                                        | 1435/3000 [00:07<00:08, 189.56it/s]"
     ]
    },
    {
     "name": "stdout",
     "output_type": "stream",
     "text": [
      "tensor([113.8807], grad_fn=<AddBackward0>)\n"
     ]
    },
    {
     "name": "stderr",
     "output_type": "stream",
     "text": [
      " 51%|███████████████████████████████████████▎                                     | 1530/3000 [00:07<00:08, 180.14it/s]"
     ]
    },
    {
     "name": "stdout",
     "output_type": "stream",
     "text": [
      "tensor([129.9402], grad_fn=<AddBackward0>)\n"
     ]
    },
    {
     "name": "stderr",
     "output_type": "stream",
     "text": [
      " 54%|█████████████████████████████████████████▋                                   | 1625/3000 [00:08<00:07, 178.06it/s]"
     ]
    },
    {
     "name": "stdout",
     "output_type": "stream",
     "text": [
      "tensor([119.3563], grad_fn=<AddBackward0>)\n"
     ]
    },
    {
     "name": "stderr",
     "output_type": "stream",
     "text": [
      " 57%|████████████████████████████████████████████▏                                | 1721/3000 [00:08<00:06, 184.73it/s]"
     ]
    },
    {
     "name": "stdout",
     "output_type": "stream",
     "text": [
      "tensor([143.9719], grad_fn=<AddBackward0>)\n"
     ]
    },
    {
     "name": "stderr",
     "output_type": "stream",
     "text": [
      " 61%|██████████████████████████████████████████████▌                              | 1816/3000 [00:09<00:06, 183.98it/s]"
     ]
    },
    {
     "name": "stdout",
     "output_type": "stream",
     "text": [
      "tensor([136.3292], grad_fn=<AddBackward0>)\n"
     ]
    },
    {
     "name": "stderr",
     "output_type": "stream",
     "text": [
      " 64%|█████████████████████████████████████████████████▌                           | 1930/3000 [00:10<00:05, 184.83it/s]"
     ]
    },
    {
     "name": "stdout",
     "output_type": "stream",
     "text": [
      "tensor([356.9639], grad_fn=<AddBackward0>)\n"
     ]
    },
    {
     "name": "stderr",
     "output_type": "stream",
     "text": [
      " 68%|███████████████████████████████████████████████████▉                         | 2025/3000 [00:10<00:05, 186.17it/s]"
     ]
    },
    {
     "name": "stdout",
     "output_type": "stream",
     "text": [
      "tensor([145.1271], grad_fn=<AddBackward0>)\n"
     ]
    },
    {
     "name": "stderr",
     "output_type": "stream",
     "text": [
      " 71%|██████████████████████████████████████████████████████▍                      | 2121/3000 [00:11<00:04, 182.74it/s]"
     ]
    },
    {
     "name": "stdout",
     "output_type": "stream",
     "text": [
      "tensor([171.0363], grad_fn=<AddBackward0>)\n"
     ]
    },
    {
     "name": "stderr",
     "output_type": "stream",
     "text": [
      " 74%|█████████████████████████████████████████████████████████▎                   | 2235/3000 [00:11<00:04, 181.49it/s]"
     ]
    },
    {
     "name": "stdout",
     "output_type": "stream",
     "text": [
      "tensor([103.0116], grad_fn=<AddBackward0>)\n"
     ]
    },
    {
     "name": "stderr",
     "output_type": "stream",
     "text": [
      " 78%|███████████████████████████████████████████████████████████▊                 | 2330/3000 [00:12<00:03, 184.42it/s]"
     ]
    },
    {
     "name": "stdout",
     "output_type": "stream",
     "text": [
      "tensor([120.2290], grad_fn=<AddBackward0>)\n"
     ]
    },
    {
     "name": "stderr",
     "output_type": "stream",
     "text": [
      " 81%|██████████████████████████████████████████████████████████████▏              | 2425/3000 [00:12<00:03, 183.82it/s]"
     ]
    },
    {
     "name": "stdout",
     "output_type": "stream",
     "text": [
      "tensor([176.5773], grad_fn=<AddBackward0>)\n"
     ]
    },
    {
     "name": "stderr",
     "output_type": "stream",
     "text": [
      " 84%|████████████████████████████████████████████████████████████████▋            | 2520/3000 [00:13<00:02, 184.41it/s]"
     ]
    },
    {
     "name": "stdout",
     "output_type": "stream",
     "text": [
      "tensor([146.3273], grad_fn=<AddBackward0>)\n"
     ]
    },
    {
     "name": "stderr",
     "output_type": "stream",
     "text": [
      " 88%|███████████████████████████████████████████████████████████████████▌         | 2634/3000 [00:13<00:01, 183.45it/s]"
     ]
    },
    {
     "name": "stdout",
     "output_type": "stream",
     "text": [
      "tensor([111.2883], grad_fn=<AddBackward0>)\n"
     ]
    },
    {
     "name": "stderr",
     "output_type": "stream",
     "text": [
      " 91%|██████████████████████████████████████████████████████████████████████       | 2729/3000 [00:14<00:01, 184.04it/s]"
     ]
    },
    {
     "name": "stdout",
     "output_type": "stream",
     "text": [
      "tensor([98.1722], grad_fn=<AddBackward0>)\n"
     ]
    },
    {
     "name": "stderr",
     "output_type": "stream",
     "text": [
      " 94%|████████████████████████████████████████████████████████████████████████▍    | 2824/3000 [00:14<00:00, 183.27it/s]"
     ]
    },
    {
     "name": "stdout",
     "output_type": "stream",
     "text": [
      "tensor([141.4040], grad_fn=<AddBackward0>)\n"
     ]
    },
    {
     "name": "stderr",
     "output_type": "stream",
     "text": [
      " 97%|██████████████████████████████████████████████████████████████████████████▉  | 2919/3000 [00:15<00:00, 182.89it/s]"
     ]
    },
    {
     "name": "stdout",
     "output_type": "stream",
     "text": [
      "tensor([153.0162], grad_fn=<AddBackward0>)\n"
     ]
    },
    {
     "name": "stderr",
     "output_type": "stream",
     "text": [
      "100%|█████████████████████████████████████████████████████████████████████████████| 3000/3000 [00:15<00:00, 188.59it/s]\n"
     ]
    }
   ],
   "source": [
    "for step in tqdm(range(3000)):\n",
    "    # prediction\n",
    "    pre = model(torch.Tensor(x_train))\n",
    "    \n",
    "    # loss\n",
    "    mse = mse_loss(pre, torch.Tensor(y_train))\n",
    "    kl = kl_loss(model)\n",
    "    cost = mse + kl_weight*kl\n",
    "    \n",
    "    optimizer.zero_grad()\n",
    "    cost.backward()\n",
    "    optimizer.step()\n",
    "    \n",
    "    if step % 100 == 0:\n",
    "        print(cost)"
   ]
  },
  {
   "cell_type": "code",
   "execution_count": 137,
   "id": "1e4de82c",
   "metadata": {},
   "outputs": [
    {
     "data": {
      "text/plain": [
       "<matplotlib.collections.PathCollection at 0x1eeaf1de108>"
      ]
     },
     "execution_count": 137,
     "metadata": {},
     "output_type": "execute_result"
    },
    {
     "data": {
      "image/png": "[encoded data removed]",
      "text/plain": [
       "<Figure size 432x288 with 1 Axes>"
      ]
     },
     "metadata": {
      "needs_background": "light"
     },
     "output_type": "display_data"
    }
   ],
   "source": [
    "\"\"\"without sample uncertainty \"\"\"\n",
    "out = model(torch.Tensor(x))\n",
    "\n",
    "plt.scatter(x, y)\n",
    "plt.scatter(x.flatten(), out.cpu().detach().numpy().flatten())"
   ]
  },
  {
   "cell_type": "code",
   "execution_count": 139,
   "id": "92e8b9e3",
   "metadata": {},
   "outputs": [
    {
     "name": "stderr",
     "output_type": "stream",
     "text": [
      "100%|██████████████████████████████████████████████████████████████████████████████| 100/100 [00:00<00:00, 1190.54it/s]\n"
     ]
    },
    {
     "data": {
      "text/plain": [
       "<matplotlib.collections.PolyCollection at 0x1eee332e308>"
      ]
     },
     "execution_count": 139,
     "metadata": {},
     "output_type": "execute_result"
    },
    {
     "data": {
      "image/png": "[encoded data removed]",
      "text/plain": [
       "<Figure size 432x288 with 1 Axes>"
      ]
     },
     "metadata": {
      "needs_background": "light"
     },
     "output_type": "display_data"
    }
   ],
   "source": [
    "\"\"\" with sample uncertainty \"\"\"\n",
    "\n",
    "# get epistemic uncertainty by sampling mFany times\n",
    "xsample = torch.linspace(-10, 10, 200).view(-1, 1)\n",
    "# xsample = torch.Tensor(x) \n",
    "\n",
    "samples, noises = [], []\n",
    "for i in tqdm(range(100)):\n",
    "\n",
    "    # network return preds and loss. Preds are made of mean and var \n",
    "    preds = model(xsample)\n",
    "\n",
    "    # append samples and noise\n",
    "    pred_mean = preds[:, 0].cpu().data.numpy() \n",
    "    samples.append(pred_mean)\n",
    "\n",
    "samples = np.array(samples)\n",
    "means = samples.mean(axis=0)\n",
    "\n",
    "# get noises (No aleatoric since model outputs single number)\n",
    "# aleatoric is obtained from network output. Average noise across 100 runs\n",
    "epistemic = samples.var(axis=0)**0.5\n",
    "# cap uncertainty that's too high\n",
    "epistemic = np.minimum(epistemic, 1e5)\n",
    "\n",
    "# total uncertainty\n",
    "total_unc = epistemic\n",
    "\n",
    "# plt.plot(xsample, epistemic)\n",
    "\n",
    "# plot original data\n",
    "plt.scatter(x, y)\n",
    "\n",
    "# plot means of prediction\n",
    "plt.plot(xsample, means, \"r\")\n",
    "\n",
    "# # plot noise\n",
    "plt.fill_between(xsample[:, 0], means - total_unc, means + total_unc, alpha = 0.4)\n"
   ]
  },
  {
   "cell_type": "code",
   "execution_count": null,
   "id": "52d2f92a",
   "metadata": {},
   "outputs": [],
   "source": []
  },
  {
   "cell_type": "code",
   "execution_count": null,
   "id": "882ec3a3",
   "metadata": {},
   "outputs": [],
   "source": []
  },
  {
   "cell_type": "code",
   "execution_count": null,
   "id": "d60ea895",
   "metadata": {},
   "outputs": [],
   "source": []
  },
  {
   "cell_type": "code",
   "execution_count": null,
   "id": "fa73171a",
   "metadata": {},
   "outputs": [],
   "source": []
  },
  {
   "cell_type": "code",
   "execution_count": null,
   "id": "e15c6dc2",
   "metadata": {},
   "outputs": [],
   "source": []
  },
  {
   "cell_type": "markdown",
   "id": "a5167636",
   "metadata": {},
   "source": [
    "## debug"
   ]
  },
  {
   "cell_type": "code",
   "execution_count": 51,
   "id": "3c243c9f",
   "metadata": {
    "scrolled": true
   },
   "outputs": [],
   "source": [
    "import torch\n",
    "import torch.nn as nn\n",
    "import torch.nn.functional as F\n",
    "import torch.optim as optim\n",
    "import numpy as np\n",
    "\n",
    "from blitz.modules import BayesianLinear\n",
    "from blitz.utils import variational_estimator\n",
    "\n",
    "from sklearn.datasets import load_boston\n",
    "from sklearn.preprocessing import StandardScaler\n",
    "from sklearn.model_selection import train_test_split\n",
    "\n",
    "X, y = load_boston(return_X_y=True)\n",
    "X = StandardScaler().fit_transform(X)\n",
    "y = StandardScaler().fit_transform(np.expand_dims(y, -1))\n",
    "\n",
    "X_train, X_test, y_train, y_test = train_test_split(X,\n",
    "                                                    y,\n",
    "                                                    test_size=.25,\n",
    "                                                    random_state=42)\n",
    "\n",
    "\n",
    "X_train, y_train = torch.tensor(X_train).float(), torch.tensor(y_train).float()\n",
    "X_test, y_test = torch.tensor(X_test).float(), torch.tensor(y_test).float()\n",
    "\n",
    "\n",
    "@variational_estimator\n",
    "class BayesianRegressor(nn.Module):\n",
    "    def __init__(self, input_dim, output_dim):\n",
    "        super().__init__()\n",
    "        #self.linear = nn.Linear(input_dim, output_dim)\n",
    "        self.blinear1 = BayesianLinear(input_dim, 512)\n",
    "        self.blinear2 = BayesianLinear(512, output_dim)\n",
    "        \n",
    "    def forward(self, x):\n",
    "        x_ = self.blinear1(x)\n",
    "        x_ = F.relu(x_)\n",
    "        return self.blinear2(x_)\n",
    "\n",
    "device = torch.device('cuda' if torch.cuda.is_available() else 'cpu')\n",
    "regressor = BayesianRegressor(13, 1).to(device)\n",
    "optimizer = optim.Adam(regressor.parameters(), lr=0.01)\n",
    "criterion = torch.nn.MSELoss()\n",
    "\n",
    "ds_train = torch.utils.data.TensorDataset(X_train, y_train)\n",
    "dataloader_train = torch.utils.data.DataLoader(ds_train, batch_size=16, shuffle=True)\n",
    "\n",
    "ds_test = torch.utils.data.TensorDataset(X_test, y_test)\n",
    "dataloader_test = torch.utils.data.DataLoader(ds_test, batch_size=16, shuffle=True)\n",
    "\n",
    "\n",
    "iteration = 0\n",
    "for epoch in range(5):\n",
    "    for i, (datapoints, labels) in enumerate(dataloader_train):\n",
    "        break\n",
    "    break\n",
    "#         optimizer.zero_grad()\n",
    "        \n",
    "#         loss = regressor.sample_elbo(inputs=datapoints.to(device),\n",
    "#                            labels=labels.to(device),\n",
    "#                            criterion=criterion,\n",
    "#                            sample_nbr=3,\n",
    "#                            complexity_cost_weight=1/X_train.shape[0])\n",
    "#         loss.backward()\n",
    "#         optimizer.step()\n",
    "        \n",
    "#         iteration += 1\n",
    "# #         if iteration%100==0:\n",
    "#         print(\"Loss: {:.4f}\".format(loss))"
   ]
  },
  {
   "cell_type": "code",
   "execution_count": 52,
   "id": "53bf45f6",
   "metadata": {},
   "outputs": [
    {
     "data": {
      "text/plain": [
       "(torch.Size([16, 13]), torch.Size([16, 1]))"
      ]
     },
     "execution_count": 52,
     "metadata": {},
     "output_type": "execute_result"
    }
   ],
   "source": [
    "datapoints.shape, labels.shape"
   ]
  },
  {
   "cell_type": "code",
   "execution_count": 53,
   "id": "88342929",
   "metadata": {},
   "outputs": [
    {
     "data": {
      "text/plain": [
       "tensor([[-3.9939e-01, -4.8772e-01, -5.4815e-01, -2.7260e-01, -5.3294e-01,\n",
       "          1.3016e-01, -5.0762e-01,  3.5432e-01, -5.2300e-01, -7.2006e-01,\n",
       "          5.2916e-01,  4.4105e-01, -8.1063e-01],\n",
       "        [-2.5899e-01, -4.8772e-01, -4.3726e-01, -2.7260e-01, -1.4422e-01,\n",
       "         -4.7674e-01,  4.7740e-01,  9.2677e-02, -6.3796e-01, -6.0128e-01,\n",
       "          1.1765e+00, -1.3604e+00,  2.1106e+00],\n",
       "        [-4.1667e-01, -4.8772e-01, -8.6769e-01, -2.7260e-01, -3.4290e-01,\n",
       "         -3.2145e-01, -1.1122e+00,  4.8353e-01, -5.2300e-01, -1.0942e+00,\n",
       "          8.0658e-01,  4.3272e-01, -5.8075e-01],\n",
       "        [-4.1697e-01,  1.8729e+00, -1.0734e+00, -2.7260e-01, -6.1069e-01,\n",
       "          8.3964e-01, -1.4393e+00,  1.2694e+00, -5.2300e-01, -2.2710e-01,\n",
       "         -3.9557e-01,  3.4314e-01, -1.1274e+00],\n",
       "        [-1.1382e-01, -4.8772e-01, -1.8046e-01, -2.7260e-01, -9.2387e-02,\n",
       "         -1.8686e+00, -1.0944e+00, -6.0640e-01, -6.3796e-01, -6.1909e-01,\n",
       "         -2.5677e-02, -6.8243e-02, -1.8311e-03],\n",
       "        [-4.1585e-01,  2.9458e+00, -1.4032e+00, -2.7260e-01, -1.3018e+00,\n",
       "          1.4280e+00, -1.2259e+00,  1.6704e+00, -8.6788e-01, -4.7061e-01,\n",
       "         -2.7074e+00,  4.4105e-01, -1.2017e+00],\n",
       "        [-4.1085e-01, -4.8772e-01, -1.2660e+00, -2.7260e-01, -5.7613e-01,\n",
       "         -9.6967e-01,  7.5478e-01, -3.8369e-01, -7.5292e-01, -1.2784e+00,\n",
       "         -3.0309e-01,  3.7636e-01,  1.8600e-01],\n",
       "        [-3.9603e-01,  3.7067e-01, -1.1391e+00, -2.7260e-01, -9.6572e-01,\n",
       "          7.5132e-01, -1.2935e+00,  1.4530e-01, -5.2300e-01, -1.1418e+00,\n",
       "         -1.6439e+00,  4.4105e-01, -1.0938e+00],\n",
       "        [-3.0692e-01, -4.8772e-01,  1.5690e+00, -2.7260e-01,  5.9868e-01,\n",
       "         -7.5170e-01,  1.0606e+00, -6.8883e-01, -6.3796e-01,  1.7083e-01,\n",
       "          1.2689e+00, -1.0297e+00,  6.5278e-01],\n",
       "        [-3.8094e-01, -4.8772e-01,  1.5690e+00, -2.7260e-01,  5.9868e-01,\n",
       "          2.4699e-01,  1.0784e+00, -7.9698e-01, -6.3796e-01,  1.7083e-01,\n",
       "          1.2689e+00,  4.2066e-01, -7.4381e-03],\n",
       "        [-3.9247e-01, -4.8772e-01, -5.4815e-01, -2.7260e-01, -5.3294e-01,\n",
       "         -2.8726e-01, -8.8457e-01,  7.7051e-01, -5.2300e-01, -7.2006e-01,\n",
       "          5.2916e-01,  4.4105e-01,  1.9195e-02],\n",
       "        [-3.3056e-01, -4.8772e-01, -4.3726e-01, -2.7260e-01, -1.4422e-01,\n",
       "          2.9970e-01,  9.1836e-01,  3.1358e-01, -6.3796e-01, -6.0128e-01,\n",
       "          1.1765e+00,  3.4281e-01,  2.0597e-02],\n",
       "        [ 1.5359e+00, -4.8772e-01,  1.0160e+00, -2.7260e-01,  1.2552e+00,\n",
       "         -1.4355e+00,  1.0499e+00, -1.1261e+00,  1.6612e+00,  1.5309e+00,\n",
       "          8.0658e-01,  4.4105e-01,  2.5451e+00],\n",
       "        [-4.1552e-01,  1.7656e+00, -8.4872e-01, -2.7260e-01, -1.2931e+00,\n",
       "          3.9943e-01, -1.6242e+00,  1.6743e+00, -4.0804e-01, -6.8443e-01,\n",
       "         -8.5793e-01,  1.6497e-01, -4.4058e-01],\n",
       "        [-4.1594e-01, -4.8772e-01, -1.1274e+00, -2.7260e-01, -5.6750e-01,\n",
       "          1.7148e-01,  1.8936e-01, -3.3416e-01, -8.6788e-01, -8.2103e-01,\n",
       "         -3.0309e-01,  4.0432e-01, -6.2420e-01],\n",
       "        [ 5.2813e-01, -4.8772e-01,  1.0160e+00, -2.7260e-01,  1.2552e+00,\n",
       "         -1.2745e+00,  1.0784e+00, -9.8256e-01,  1.6612e+00,  1.5309e+00,\n",
       "          8.0658e-01,  4.4105e-01,  1.1490e+00]])"
      ]
     },
     "execution_count": 53,
     "metadata": {},
     "output_type": "execute_result"
    }
   ],
   "source": [
    "datapoints"
   ]
  },
  {
   "cell_type": "code",
   "execution_count": 54,
   "id": "6b3a4844",
   "metadata": {},
   "outputs": [
    {
     "data": {
      "text/plain": [
       "tensor([[ 0.0617],\n",
       "        [-1.0158],\n",
       "        [-0.2104],\n",
       "        [ 0.9433],\n",
       "        [-0.7001],\n",
       "        [ 1.1719],\n",
       "        [ 0.4209],\n",
       "        [ 1.3678],\n",
       "        [-0.7545],\n",
       "        [-0.3627],\n",
       "        [-0.0362],\n",
       "        [-0.4498],\n",
       "        [-1.6688],\n",
       "        [ 0.2468],\n",
       "        [-0.0580],\n",
       "        [-1.2008]])"
      ]
     },
     "execution_count": 54,
     "metadata": {},
     "output_type": "execute_result"
    }
   ],
   "source": [
    "labels"
   ]
  },
  {
   "cell_type": "code",
   "execution_count": null,
   "id": "918802ca",
   "metadata": {},
   "outputs": [],
   "source": []
  }
 ],
 "metadata": {
  "kernelspec": {
   "display_name": "my-rdkit-env",
   "language": "python",
   "name": "my-rdkit-env"
  },
  "language_info": {
   "codemirror_mode": {
    "name": "ipython",
    "version": 3
   },
   "file_extension": ".py",
   "mimetype": "text/x-python",
   "name": "python",
   "nbconvert_exporter": "python",
   "pygments_lexer": "ipython3",
   "version": "3.7.5"
  }
 },
 "nbformat": 4,
 "nbformat_minor": 5
}
